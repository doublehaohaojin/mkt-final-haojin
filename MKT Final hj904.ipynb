{
 "cells": [
  {
   "cell_type": "code",
   "execution_count": 1,
   "metadata": {},
   "outputs": [],
   "source": [
    "import pickle\n",
    "import numpy as np\n",
    "import pandas as pd\n",
    "import io\n",
    "import scipy.stats as scs\n",
    "import matplotlib.pyplot as plt\n",
    "f = open(\"subscribers\",'rb')\n",
    "subscribers = pickle.load(f)\n",
    "f.close()\n",
    "f = open(\"engagement\",'rb')\n",
    "engagement = pickle.load(f)\n",
    "f.close()\n",
    "f = open(\"customer_service_reps\",'rb')\n",
    "customer_service_reps = pickle.load(f)\n",
    "f.close()\n"
   ]
  },
  {
   "cell_type": "code",
   "execution_count": 2,
   "metadata": {},
   "outputs": [
    {
     "data": {
      "text/plain": [
       "Index(['customer_service_rep_id', 'subid', 'current_sub_TF', 'cancel_date',\n",
       "       'account_creation_date', 'num_trial_days', 'trial_completed_TF',\n",
       "       'billing_channel', 'revenue_net_1month', 'payment_period',\n",
       "       'last_payment', 'next_payment', 'renew'],\n",
       "      dtype='object')"
      ]
     },
     "execution_count": 2,
     "metadata": {},
     "output_type": "execute_result"
    }
   ],
   "source": [
    "customer_service_reps.columns"
   ]
  },
  {
   "cell_type": "code",
   "execution_count": 3,
   "metadata": {
    "scrolled": true
   },
   "outputs": [
    {
     "data": {
      "text/html": [
       "<div>\n",
       "<style scoped>\n",
       "    .dataframe tbody tr th:only-of-type {\n",
       "        vertical-align: middle;\n",
       "    }\n",
       "\n",
       "    .dataframe tbody tr th {\n",
       "        vertical-align: top;\n",
       "    }\n",
       "\n",
       "    .dataframe thead th {\n",
       "        text-align: right;\n",
       "    }\n",
       "</style>\n",
       "<table border=\"1\" class=\"dataframe\">\n",
       "  <thead>\n",
       "    <tr style=\"text-align: right;\">\n",
       "      <th></th>\n",
       "      <th>customer_service_rep_id</th>\n",
       "      <th>subid</th>\n",
       "      <th>current_sub_TF</th>\n",
       "      <th>cancel_date</th>\n",
       "      <th>account_creation_date</th>\n",
       "      <th>num_trial_days</th>\n",
       "      <th>trial_completed_TF</th>\n",
       "      <th>billing_channel</th>\n",
       "      <th>revenue_net_1month</th>\n",
       "      <th>payment_period</th>\n",
       "      <th>last_payment</th>\n",
       "      <th>next_payment</th>\n",
       "      <th>renew</th>\n",
       "    </tr>\n",
       "  </thead>\n",
       "  <tbody>\n",
       "    <tr>\n",
       "      <th>4</th>\n",
       "      <td>36189811</td>\n",
       "      <td>25108574</td>\n",
       "      <td>False</td>\n",
       "      <td>NaT</td>\n",
       "      <td>2019-11-26 03:30:29</td>\n",
       "      <td>7</td>\n",
       "      <td>True</td>\n",
       "      <td>itunes</td>\n",
       "      <td>1.1377</td>\n",
       "      <td>0</td>\n",
       "      <td>2019-11-26 03:30:29</td>\n",
       "      <td>2019-11-26 03:30:29</td>\n",
       "      <td>NaN</td>\n",
       "    </tr>\n",
       "    <tr>\n",
       "      <th>5</th>\n",
       "      <td>36189811</td>\n",
       "      <td>25108574</td>\n",
       "      <td>False</td>\n",
       "      <td>NaT</td>\n",
       "      <td>2019-11-26 03:30:29</td>\n",
       "      <td>7</td>\n",
       "      <td>True</td>\n",
       "      <td>itunes</td>\n",
       "      <td>1.1377</td>\n",
       "      <td>1</td>\n",
       "      <td>2019-11-26 03:30:29</td>\n",
       "      <td>2019-12-27 03:30:29</td>\n",
       "      <td>NaN</td>\n",
       "    </tr>\n",
       "    <tr>\n",
       "      <th>6</th>\n",
       "      <td>36189811</td>\n",
       "      <td>25108574</td>\n",
       "      <td>False</td>\n",
       "      <td>NaT</td>\n",
       "      <td>2019-11-26 03:30:29</td>\n",
       "      <td>7</td>\n",
       "      <td>True</td>\n",
       "      <td>itunes</td>\n",
       "      <td>1.1377</td>\n",
       "      <td>2</td>\n",
       "      <td>2019-12-27 03:30:29</td>\n",
       "      <td>2020-01-26 03:30:29</td>\n",
       "      <td>NaN</td>\n",
       "    </tr>\n",
       "    <tr>\n",
       "      <th>7</th>\n",
       "      <td>36189811</td>\n",
       "      <td>25108574</td>\n",
       "      <td>False</td>\n",
       "      <td>NaT</td>\n",
       "      <td>2019-11-26 03:30:29</td>\n",
       "      <td>7</td>\n",
       "      <td>True</td>\n",
       "      <td>itunes</td>\n",
       "      <td>1.1377</td>\n",
       "      <td>3</td>\n",
       "      <td>2020-01-26 03:30:29</td>\n",
       "      <td>NaT</td>\n",
       "      <td>NaN</td>\n",
       "    </tr>\n",
       "    <tr>\n",
       "      <th>8</th>\n",
       "      <td>31174901</td>\n",
       "      <td>25914865</td>\n",
       "      <td>True</td>\n",
       "      <td>NaT</td>\n",
       "      <td>2020-03-19 01:20:25</td>\n",
       "      <td>14</td>\n",
       "      <td>True</td>\n",
       "      <td>itunes</td>\n",
       "      <td>1.1377</td>\n",
       "      <td>0</td>\n",
       "      <td>2020-03-19 01:20:25</td>\n",
       "      <td>2020-04-02 01:20:25</td>\n",
       "      <td>NaN</td>\n",
       "    </tr>\n",
       "  </tbody>\n",
       "</table>\n",
       "</div>"
      ],
      "text/plain": [
       "   customer_service_rep_id     subid  current_sub_TF cancel_date  \\\n",
       "4                 36189811  25108574           False         NaT   \n",
       "5                 36189811  25108574           False         NaT   \n",
       "6                 36189811  25108574           False         NaT   \n",
       "7                 36189811  25108574           False         NaT   \n",
       "8                 31174901  25914865            True         NaT   \n",
       "\n",
       "  account_creation_date  num_trial_days  trial_completed_TF billing_channel  \\\n",
       "4   2019-11-26 03:30:29               7                True          itunes   \n",
       "5   2019-11-26 03:30:29               7                True          itunes   \n",
       "6   2019-11-26 03:30:29               7                True          itunes   \n",
       "7   2019-11-26 03:30:29               7                True          itunes   \n",
       "8   2020-03-19 01:20:25              14                True          itunes   \n",
       "\n",
       "   revenue_net_1month  payment_period        last_payment        next_payment  \\\n",
       "4              1.1377               0 2019-11-26 03:30:29 2019-11-26 03:30:29   \n",
       "5              1.1377               1 2019-11-26 03:30:29 2019-12-27 03:30:29   \n",
       "6              1.1377               2 2019-12-27 03:30:29 2020-01-26 03:30:29   \n",
       "7              1.1377               3 2020-01-26 03:30:29                 NaT   \n",
       "8              1.1377               0 2020-03-19 01:20:25 2020-04-02 01:20:25   \n",
       "\n",
       "  renew  \n",
       "4   NaN  \n",
       "5   NaN  \n",
       "6   NaN  \n",
       "7   NaN  \n",
       "8   NaN  "
      ]
     },
     "execution_count": 3,
     "metadata": {},
     "output_type": "execute_result"
    }
   ],
   "source": [
    "customer_service_reps.head()"
   ]
  },
  {
   "cell_type": "code",
   "execution_count": 4,
   "metadata": {},
   "outputs": [
    {
     "data": {
      "text/plain": [
       "2208643"
      ]
     },
     "execution_count": 4,
     "metadata": {},
     "output_type": "execute_result"
    }
   ],
   "source": [
    "len(customer_service_reps)"
   ]
  },
  {
   "cell_type": "code",
   "execution_count": 5,
   "metadata": {},
   "outputs": [
    {
     "data": {
      "text/plain": [
       "Index(['subid', 'package_type', 'num_weekly_services_utilized',\n",
       "       'preferred_genre', 'intended_use', 'weekly_consumption_hour',\n",
       "       'num_ideal_streaming_services', 'retarget_TF', 'age', 'male_TF',\n",
       "       'country', 'attribution_technical', 'attribution_survey', 'op_sys',\n",
       "       'months_per_bill_period', 'plan_type', 'monthly_price',\n",
       "       'discount_price', 'account_creation_date', 'creation_until_cancel_days',\n",
       "       'cancel_before_trial_end', 'trial_end_date',\n",
       "       'initial_credit_card_declined', 'revenue_net', 'join_fee', 'language',\n",
       "       'paid_TF', 'refund_after_trial_TF', 'payment_type'],\n",
       "      dtype='object')"
      ]
     },
     "execution_count": 5,
     "metadata": {},
     "output_type": "execute_result"
    }
   ],
   "source": [
    "subscribers.columns"
   ]
  },
  {
   "cell_type": "code",
   "execution_count": 6,
   "metadata": {},
   "outputs": [
    {
     "data": {
      "text/html": [
       "<div>\n",
       "<style scoped>\n",
       "    .dataframe tbody tr th:only-of-type {\n",
       "        vertical-align: middle;\n",
       "    }\n",
       "\n",
       "    .dataframe tbody tr th {\n",
       "        vertical-align: top;\n",
       "    }\n",
       "\n",
       "    .dataframe thead th {\n",
       "        text-align: right;\n",
       "    }\n",
       "</style>\n",
       "<table border=\"1\" class=\"dataframe\">\n",
       "  <thead>\n",
       "    <tr style=\"text-align: right;\">\n",
       "      <th></th>\n",
       "      <th>subid</th>\n",
       "      <th>package_type</th>\n",
       "      <th>num_weekly_services_utilized</th>\n",
       "      <th>preferred_genre</th>\n",
       "      <th>intended_use</th>\n",
       "      <th>weekly_consumption_hour</th>\n",
       "      <th>num_ideal_streaming_services</th>\n",
       "      <th>retarget_TF</th>\n",
       "      <th>age</th>\n",
       "      <th>male_TF</th>\n",
       "      <th>...</th>\n",
       "      <th>creation_until_cancel_days</th>\n",
       "      <th>cancel_before_trial_end</th>\n",
       "      <th>trial_end_date</th>\n",
       "      <th>initial_credit_card_declined</th>\n",
       "      <th>revenue_net</th>\n",
       "      <th>join_fee</th>\n",
       "      <th>language</th>\n",
       "      <th>paid_TF</th>\n",
       "      <th>refund_after_trial_TF</th>\n",
       "      <th>payment_type</th>\n",
       "    </tr>\n",
       "  </thead>\n",
       "  <tbody>\n",
       "    <tr>\n",
       "      <th>162502</th>\n",
       "      <td>21724479</td>\n",
       "      <td>economy</td>\n",
       "      <td>NaN</td>\n",
       "      <td>comedy</td>\n",
       "      <td>access to exclusive content</td>\n",
       "      <td>NaN</td>\n",
       "      <td>NaN</td>\n",
       "      <td>False</td>\n",
       "      <td>NaN</td>\n",
       "      <td>False</td>\n",
       "      <td>...</td>\n",
       "      <td>NaN</td>\n",
       "      <td>True</td>\n",
       "      <td>2020-02-08</td>\n",
       "      <td>False</td>\n",
       "      <td>NaN</td>\n",
       "      <td>NaN</td>\n",
       "      <td>ar</td>\n",
       "      <td>True</td>\n",
       "      <td>False</td>\n",
       "      <td>Standard Charter</td>\n",
       "    </tr>\n",
       "    <tr>\n",
       "      <th>380374</th>\n",
       "      <td>23383224</td>\n",
       "      <td>base</td>\n",
       "      <td>NaN</td>\n",
       "      <td>comedy</td>\n",
       "      <td>access to exclusive content</td>\n",
       "      <td>22.951579</td>\n",
       "      <td>NaN</td>\n",
       "      <td>False</td>\n",
       "      <td>70.0</td>\n",
       "      <td>False</td>\n",
       "      <td>...</td>\n",
       "      <td>0.0</td>\n",
       "      <td>False</td>\n",
       "      <td>2020-03-16</td>\n",
       "      <td>False</td>\n",
       "      <td>0.0</td>\n",
       "      <td>0.3303</td>\n",
       "      <td>ar</td>\n",
       "      <td>False</td>\n",
       "      <td>False</td>\n",
       "      <td>NaN</td>\n",
       "    </tr>\n",
       "    <tr>\n",
       "      <th>496617</th>\n",
       "      <td>26844789</td>\n",
       "      <td>enhanced</td>\n",
       "      <td>3.362885</td>\n",
       "      <td>regional</td>\n",
       "      <td>replace OTT</td>\n",
       "      <td>36.001186</td>\n",
       "      <td>1.951776</td>\n",
       "      <td>False</td>\n",
       "      <td>25.0</td>\n",
       "      <td>True</td>\n",
       "      <td>...</td>\n",
       "      <td>1.0</td>\n",
       "      <td>False</td>\n",
       "      <td>2019-12-22</td>\n",
       "      <td>False</td>\n",
       "      <td>0.0</td>\n",
       "      <td>0.1101</td>\n",
       "      <td>ar</td>\n",
       "      <td>False</td>\n",
       "      <td>False</td>\n",
       "      <td>NaN</td>\n",
       "    </tr>\n",
       "    <tr>\n",
       "      <th>356799</th>\n",
       "      <td>29417030</td>\n",
       "      <td>base</td>\n",
       "      <td>NaN</td>\n",
       "      <td>drama</td>\n",
       "      <td>replace OTT</td>\n",
       "      <td>20.051667</td>\n",
       "      <td>NaN</td>\n",
       "      <td>False</td>\n",
       "      <td>30.0</td>\n",
       "      <td>False</td>\n",
       "      <td>...</td>\n",
       "      <td>0.0</td>\n",
       "      <td>False</td>\n",
       "      <td>2020-02-11</td>\n",
       "      <td>False</td>\n",
       "      <td>0.0</td>\n",
       "      <td>0.0367</td>\n",
       "      <td>ar</td>\n",
       "      <td>False</td>\n",
       "      <td>False</td>\n",
       "      <td>NaN</td>\n",
       "    </tr>\n",
       "    <tr>\n",
       "      <th>681701</th>\n",
       "      <td>26723159</td>\n",
       "      <td>base</td>\n",
       "      <td>3.731089</td>\n",
       "      <td>comedy</td>\n",
       "      <td>replace OTT</td>\n",
       "      <td>22.951579</td>\n",
       "      <td>2.506384</td>\n",
       "      <td>False</td>\n",
       "      <td>28.0</td>\n",
       "      <td>False</td>\n",
       "      <td>...</td>\n",
       "      <td>9.0</td>\n",
       "      <td>False</td>\n",
       "      <td>2019-10-20</td>\n",
       "      <td>False</td>\n",
       "      <td>0.0</td>\n",
       "      <td>0.0367</td>\n",
       "      <td>ar</td>\n",
       "      <td>False</td>\n",
       "      <td>False</td>\n",
       "      <td>NaN</td>\n",
       "    </tr>\n",
       "  </tbody>\n",
       "</table>\n",
       "<p>5 rows × 29 columns</p>\n",
       "</div>"
      ],
      "text/plain": [
       "           subid package_type  num_weekly_services_utilized preferred_genre  \\\n",
       "162502  21724479      economy                           NaN          comedy   \n",
       "380374  23383224         base                           NaN          comedy   \n",
       "496617  26844789     enhanced                      3.362885        regional   \n",
       "356799  29417030         base                           NaN           drama   \n",
       "681701  26723159         base                      3.731089          comedy   \n",
       "\n",
       "                       intended_use  weekly_consumption_hour  \\\n",
       "162502  access to exclusive content                      NaN   \n",
       "380374  access to exclusive content                22.951579   \n",
       "496617                  replace OTT                36.001186   \n",
       "356799                  replace OTT                20.051667   \n",
       "681701                  replace OTT                22.951579   \n",
       "\n",
       "        num_ideal_streaming_services  retarget_TF   age male_TF  ...  \\\n",
       "162502                           NaN        False   NaN   False  ...   \n",
       "380374                           NaN        False  70.0   False  ...   \n",
       "496617                      1.951776        False  25.0    True  ...   \n",
       "356799                           NaN        False  30.0   False  ...   \n",
       "681701                      2.506384        False  28.0   False  ...   \n",
       "\n",
       "       creation_until_cancel_days cancel_before_trial_end trial_end_date  \\\n",
       "162502                        NaN                    True     2020-02-08   \n",
       "380374                        0.0                   False     2020-03-16   \n",
       "496617                        1.0                   False     2019-12-22   \n",
       "356799                        0.0                   False     2020-02-11   \n",
       "681701                        9.0                   False     2019-10-20   \n",
       "\n",
       "       initial_credit_card_declined  revenue_net join_fee  language  paid_TF  \\\n",
       "162502                        False          NaN      NaN        ar     True   \n",
       "380374                        False          0.0   0.3303        ar    False   \n",
       "496617                        False          0.0   0.1101        ar    False   \n",
       "356799                        False          0.0   0.0367        ar    False   \n",
       "681701                        False          0.0   0.0367        ar    False   \n",
       "\n",
       "       refund_after_trial_TF      payment_type  \n",
       "162502                 False  Standard Charter  \n",
       "380374                 False               NaN  \n",
       "496617                 False               NaN  \n",
       "356799                 False               NaN  \n",
       "681701                 False               NaN  \n",
       "\n",
       "[5 rows x 29 columns]"
      ]
     },
     "execution_count": 6,
     "metadata": {},
     "output_type": "execute_result"
    }
   ],
   "source": [
    "subscribers.head()"
   ]
  },
  {
   "cell_type": "code",
   "execution_count": 7,
   "metadata": {},
   "outputs": [
    {
     "data": {
      "text/plain": [
       "227628"
      ]
     },
     "execution_count": 7,
     "metadata": {},
     "output_type": "execute_result"
    }
   ],
   "source": [
    "len(subscribers)"
   ]
  },
  {
   "cell_type": "code",
   "execution_count": 8,
   "metadata": {},
   "outputs": [
    {
     "data": {
      "text/plain": [
       "Index(['subid', 'date', 'app_opens', 'cust_service_mssgs',\n",
       "       'num_videos_completed', 'num_videos_more_than_30_seconds',\n",
       "       'num_videos_rated', 'num_series_started', 'payment_period'],\n",
       "      dtype='object')"
      ]
     },
     "execution_count": 8,
     "metadata": {},
     "output_type": "execute_result"
    }
   ],
   "source": [
    "engagement.columns"
   ]
  },
  {
   "cell_type": "code",
   "execution_count": 9,
   "metadata": {},
   "outputs": [
    {
     "data": {
      "text/html": [
       "<div>\n",
       "<style scoped>\n",
       "    .dataframe tbody tr th:only-of-type {\n",
       "        vertical-align: middle;\n",
       "    }\n",
       "\n",
       "    .dataframe tbody tr th {\n",
       "        vertical-align: top;\n",
       "    }\n",
       "\n",
       "    .dataframe thead th {\n",
       "        text-align: right;\n",
       "    }\n",
       "</style>\n",
       "<table border=\"1\" class=\"dataframe\">\n",
       "  <thead>\n",
       "    <tr style=\"text-align: right;\">\n",
       "      <th></th>\n",
       "      <th>subid</th>\n",
       "      <th>date</th>\n",
       "      <th>app_opens</th>\n",
       "      <th>cust_service_mssgs</th>\n",
       "      <th>num_videos_completed</th>\n",
       "      <th>num_videos_more_than_30_seconds</th>\n",
       "      <th>num_videos_rated</th>\n",
       "      <th>num_series_started</th>\n",
       "      <th>payment_period</th>\n",
       "    </tr>\n",
       "  </thead>\n",
       "  <tbody>\n",
       "    <tr>\n",
       "      <th>1</th>\n",
       "      <td>22349235</td>\n",
       "      <td>2019-07-01</td>\n",
       "      <td>1.0</td>\n",
       "      <td>1.0</td>\n",
       "      <td>0.0</td>\n",
       "      <td>6.0</td>\n",
       "      <td>0.0</td>\n",
       "      <td>0.0</td>\n",
       "      <td>0.0</td>\n",
       "    </tr>\n",
       "    <tr>\n",
       "      <th>2</th>\n",
       "      <td>22349235</td>\n",
       "      <td>2019-07-02</td>\n",
       "      <td>1.0</td>\n",
       "      <td>0.0</td>\n",
       "      <td>0.0</td>\n",
       "      <td>5.0</td>\n",
       "      <td>0.0</td>\n",
       "      <td>0.0</td>\n",
       "      <td>0.0</td>\n",
       "    </tr>\n",
       "    <tr>\n",
       "      <th>3</th>\n",
       "      <td>22349235</td>\n",
       "      <td>2019-07-03</td>\n",
       "      <td>0.0</td>\n",
       "      <td>1.0</td>\n",
       "      <td>0.0</td>\n",
       "      <td>0.0</td>\n",
       "      <td>0.0</td>\n",
       "      <td>0.0</td>\n",
       "      <td>0.0</td>\n",
       "    </tr>\n",
       "    <tr>\n",
       "      <th>50</th>\n",
       "      <td>20848497</td>\n",
       "      <td>2019-07-02</td>\n",
       "      <td>1.0</td>\n",
       "      <td>0.0</td>\n",
       "      <td>7.0</td>\n",
       "      <td>7.0</td>\n",
       "      <td>0.0</td>\n",
       "      <td>0.0</td>\n",
       "      <td>0.0</td>\n",
       "    </tr>\n",
       "    <tr>\n",
       "      <th>51</th>\n",
       "      <td>22680106</td>\n",
       "      <td>2019-07-02</td>\n",
       "      <td>2.0</td>\n",
       "      <td>1.0</td>\n",
       "      <td>7.0</td>\n",
       "      <td>7.0</td>\n",
       "      <td>0.0</td>\n",
       "      <td>1.0</td>\n",
       "      <td>0.0</td>\n",
       "    </tr>\n",
       "  </tbody>\n",
       "</table>\n",
       "</div>"
      ],
      "text/plain": [
       "       subid       date  app_opens  cust_service_mssgs  num_videos_completed  \\\n",
       "1   22349235 2019-07-01        1.0                 1.0                   0.0   \n",
       "2   22349235 2019-07-02        1.0                 0.0                   0.0   \n",
       "3   22349235 2019-07-03        0.0                 1.0                   0.0   \n",
       "50  20848497 2019-07-02        1.0                 0.0                   7.0   \n",
       "51  22680106 2019-07-02        2.0                 1.0                   7.0   \n",
       "\n",
       "    num_videos_more_than_30_seconds  num_videos_rated  num_series_started  \\\n",
       "1                               6.0               0.0                 0.0   \n",
       "2                               5.0               0.0                 0.0   \n",
       "3                               0.0               0.0                 0.0   \n",
       "50                              7.0               0.0                 0.0   \n",
       "51                              7.0               0.0                 1.0   \n",
       "\n",
       "    payment_period  \n",
       "1              0.0  \n",
       "2              0.0  \n",
       "3              0.0  \n",
       "50             0.0  \n",
       "51             0.0  "
      ]
     },
     "execution_count": 9,
     "metadata": {},
     "output_type": "execute_result"
    }
   ],
   "source": [
    "engagement.head()"
   ]
  },
  {
   "cell_type": "code",
   "execution_count": 10,
   "metadata": {},
   "outputs": [
    {
     "data": {
      "text/plain": [
       "2585724"
      ]
     },
     "execution_count": 10,
     "metadata": {},
     "output_type": "execute_result"
    }
   ],
   "source": [
    "len(engagement)"
   ]
  },
  {
   "cell_type": "code",
   "execution_count": 11,
   "metadata": {},
   "outputs": [],
   "source": [
    "# AB Testing Trial Days 7 vs 14"
   ]
  },
  {
   "cell_type": "code",
   "execution_count": 12,
   "metadata": {},
   "outputs": [
    {
     "data": {
      "text/plain": [
       "14    1968089\n",
       "7      160596\n",
       "0       79958\n",
       "Name: num_trial_days, dtype: int64"
      ]
     },
     "execution_count": 12,
     "metadata": {},
     "output_type": "execute_result"
    }
   ],
   "source": [
    "customer_service_reps['num_trial_days'].value_counts()"
   ]
  },
  {
   "cell_type": "code",
   "execution_count": 13,
   "metadata": {},
   "outputs": [
    {
     "data": {
      "text/plain": [
       "False    387666\n",
       "True     218581\n",
       "Name: renew, dtype: int64"
      ]
     },
     "execution_count": 13,
     "metadata": {},
     "output_type": "execute_result"
    }
   ],
   "source": [
    "customer_service_reps['renew'].value_counts()"
   ]
  },
  {
   "cell_type": "code",
   "execution_count": 14,
   "metadata": {},
   "outputs": [],
   "source": [
    "subscribers = subscribers.merge(customer_service_reps[['subid','num_trial_days']],on=['subid'])\n",
    "customer_service_reps['renew'] = customer_service_reps['renew'].astype(float)\n",
    "a = customer_service_reps.dropna().groupby(['num_trial_days']).sum()\n",
    "dataframe = pd.DataFrame(list(a['renew']),index=a['renew'].index, columns=['renew']).merge(subscribers['num_trial_days'].value_counts(),left_on=None, right_on=None, left_index=True, right_index=True)\n"
   ]
  },
  {
   "cell_type": "code",
   "execution_count": 15,
   "metadata": {},
   "outputs": [],
   "source": [
    "dataframe['coversion_rate'] = dataframe['renew']/dataframe['num_trial_days']"
   ]
  },
  {
   "cell_type": "code",
   "execution_count": 16,
   "metadata": {},
   "outputs": [
    {
     "data": {
      "text/html": [
       "<div>\n",
       "<style scoped>\n",
       "    .dataframe tbody tr th:only-of-type {\n",
       "        vertical-align: middle;\n",
       "    }\n",
       "\n",
       "    .dataframe tbody tr th {\n",
       "        vertical-align: top;\n",
       "    }\n",
       "\n",
       "    .dataframe thead th {\n",
       "        text-align: right;\n",
       "    }\n",
       "</style>\n",
       "<table border=\"1\" class=\"dataframe\">\n",
       "  <thead>\n",
       "    <tr style=\"text-align: right;\">\n",
       "      <th></th>\n",
       "      <th>renew</th>\n",
       "      <th>num_trial_days</th>\n",
       "      <th>coversion_rate</th>\n",
       "    </tr>\n",
       "  </thead>\n",
       "  <tbody>\n",
       "    <tr>\n",
       "      <th>14</th>\n",
       "      <td>26679.0</td>\n",
       "      <td>209804</td>\n",
       "      <td>0.127162</td>\n",
       "    </tr>\n",
       "    <tr>\n",
       "      <th>0</th>\n",
       "      <td>7.0</td>\n",
       "      <td>90</td>\n",
       "      <td>0.077778</td>\n",
       "    </tr>\n",
       "  </tbody>\n",
       "</table>\n",
       "</div>"
      ],
      "text/plain": [
       "      renew  num_trial_days  coversion_rate\n",
       "14  26679.0          209804        0.127162\n",
       "0       7.0              90        0.077778"
      ]
     },
     "execution_count": 16,
     "metadata": {},
     "output_type": "execute_result"
    }
   ],
   "source": [
    "dataframe.sort_values(by='coversion_rate', ascending = False)"
   ]
  },
  {
   "cell_type": "code",
   "execution_count": 17,
   "metadata": {},
   "outputs": [],
   "source": [
    "\n",
    "def generate_data(N_A, N_B, p_A, p_B, days=None, control_label='A',\n",
    "                  test_label='B'):\n",
    "\n",
    "\n",
    "    # initiate empty container\n",
    "    data = []\n",
    "\n",
    "    # total amount of rows in the data\n",
    "    N = N_A + N_B\n",
    "\n",
    "    # distribute events based on proportion of group size\n",
    "    group_bern = scs.bernoulli(N_A / (N_A + N_B))\n",
    "\n",
    "    # initiate bernoulli distributions from which to randomly sample\n",
    "    A_bern = scs.bernoulli(p_A)\n",
    "    B_bern = scs.bernoulli(p_B)\n",
    "\n",
    "    for idx in range(N):\n",
    "        # initite empty row\n",
    "        row = {}\n",
    "        # for 'ts' column\n",
    "        if days is not None:\n",
    "            if type(days) == int:\n",
    "                row['ts'] = idx // (N // days)\n",
    "            else:\n",
    "                raise ValueError(\"Provide an integer for the days parameter.\")\n",
    "        # assign group based on 50/50 probability\n",
    "        row['group'] = group_bern.rvs()\n",
    "\n",
    "        if row['group'] == 0:\n",
    "            # assign conversion based on provided parameters\n",
    "            row['converted'] = A_bern.rvs()\n",
    "        else:\n",
    "            row['converted'] = B_bern.rvs()\n",
    "        # collect row into data container\n",
    "        data.append(row)\n",
    "\n",
    "    # convert data into pandas dataframe\n",
    "    df = pd.DataFrame(data)\n",
    "\n",
    "    # transform group labels of 0s and 1s to user-defined group labels\n",
    "    df['group'] = df['group'].apply(\n",
    "        lambda x: control_label if x == 0 else test_label)\n",
    "\n",
    "    return df\n"
   ]
  },
  {
   "cell_type": "markdown",
   "metadata": {},
   "source": [
    "# Hypothesis setup:\n",
    "\n",
    "Variant B: 14 trial days\n",
    "\n",
    "Variant A: 0 and 7 trial days\n",
    "\n",
    "Null Hypothesis $H_{0}$: Variant B and Variant A had the same conversion rates \n",
    "\n",
    "Alternative hypothesis $H_{A}$: Variant B had a lower conversion rate than Variant A\n",
    "\n",
    "# Assumptions:\n",
    "1. Variant A represents the population and we can treat the population mean as known and equal to the mean of Variant A.\n"
   ]
  },
  {
   "cell_type": "code",
   "execution_count": 18,
   "metadata": {
    "scrolled": true
   },
   "outputs": [
    {
     "data": {
      "text/html": [
       "<div>\n",
       "<style scoped>\n",
       "    .dataframe tbody tr th:only-of-type {\n",
       "        vertical-align: middle;\n",
       "    }\n",
       "\n",
       "    .dataframe tbody tr th {\n",
       "        vertical-align: top;\n",
       "    }\n",
       "\n",
       "    .dataframe thead th {\n",
       "        text-align: right;\n",
       "    }\n",
       "</style>\n",
       "<table border=\"1\" class=\"dataframe\">\n",
       "  <thead>\n",
       "    <tr style=\"text-align: right;\">\n",
       "      <th></th>\n",
       "      <th>Variant</th>\n",
       "      <th>renew</th>\n",
       "    </tr>\n",
       "  </thead>\n",
       "  <tbody>\n",
       "    <tr>\n",
       "      <th>0</th>\n",
       "      <td>A</td>\n",
       "      <td>0</td>\n",
       "    </tr>\n",
       "    <tr>\n",
       "      <th>1</th>\n",
       "      <td>A</td>\n",
       "      <td>0</td>\n",
       "    </tr>\n",
       "    <tr>\n",
       "      <th>2</th>\n",
       "      <td>A</td>\n",
       "      <td>0</td>\n",
       "    </tr>\n",
       "    <tr>\n",
       "      <th>3</th>\n",
       "      <td>A</td>\n",
       "      <td>0</td>\n",
       "    </tr>\n",
       "    <tr>\n",
       "      <th>4</th>\n",
       "      <td>A</td>\n",
       "      <td>0</td>\n",
       "    </tr>\n",
       "  </tbody>\n",
       "</table>\n",
       "</div>"
      ],
      "text/plain": [
       "  Variant  renew\n",
       "0       A      0\n",
       "1       A      0\n",
       "2       A      0\n",
       "3       A      0\n",
       "4       A      0"
      ]
     },
     "execution_count": 18,
     "metadata": {},
     "output_type": "execute_result"
    }
   ],
   "source": [
    "\n",
    "N_B = 209804 \n",
    "N_A = 90\n",
    "p_B = 0.127162 \n",
    "p_A = 0.077778\n",
    "df = generate_data(N_A, N_B, p_A, p_B, days=None, control_label='A',\n",
    "                  test_label='B')\n",
    "df.columns = ['Variant', 'renew'] \n",
    "df.head()"
   ]
  },
  {
   "cell_type": "code",
   "execution_count": 19,
   "metadata": {},
   "outputs": [
    {
     "name": "stdout",
     "output_type": "stream",
     "text": [
      "We reject the null. The conversion rate of variant B is significantly lower than that of variant A.\n",
      "Our Z score is 2.215718325187667.\n"
     ]
    }
   ],
   "source": [
    "# calculate our z score\n",
    "p_treatment = df[df[\"Variant\"]==\"B\"]['renew'].sum()/len(df[df[\"Variant\"]==\"B\"]['renew'])\n",
    "p_varA = df[df[\"Variant\"]==\"A\"]['renew'].sum()/len(df[df[\"Variant\"]==\"A\"]['renew'])\n",
    "n = len(df[df[\"Variant\"]==\"B\"]['renew'])\n",
    "z = (p_treatment-p_varA)/(((p_varA*(1-p_varA))/n)**0.5)\n",
    "if abs(z) > 1.64:\n",
    "    print(\"We reject the null. The conversion rate of variant B is significantly lower than that of variant A.\")\n",
    "    print(\"Our Z score is {}.\".format(z))\n",
    "else:\n",
    "    print(\"Test failed. 14 trial days are not statistically different from 7&0 trial days.\")\n",
    "    print(\"Our Z score is {}.\".format(z))"
   ]
  },
  {
   "cell_type": "markdown",
   "metadata": {},
   "source": [
    "# Optimal Sample Size"
   ]
  },
  {
   "cell_type": "code",
   "execution_count": 20,
   "metadata": {},
   "outputs": [
    {
     "name": "stdout",
     "output_type": "stream",
     "text": [
      "The optimal sample size for each segment is 404.31885220513556\n"
     ]
    }
   ],
   "source": [
    "# Calculate optumal sample size\n",
    "t_alpha = 1.96\n",
    "t_beta = 0.842\n",
    "p0 = p_varA\n",
    "p1 = p_treatment\n",
    "delta = p1-p0\n",
    "p_bar = (p0+p1)/2\n",
    "\n",
    "# plug into the formula\n",
    "n_star = ((t_alpha*((2*p_bar*(1-p_bar))**.5)+(t_beta*((p0*(1-p0)+p1*(1-p1))**.5)))**2)*(delta**-2)\n",
    "print(\"The optimal sample size for each segment is {}\".format(n_star))"
   ]
  },
  {
   "cell_type": "code",
   "execution_count": 21,
   "metadata": {},
   "outputs": [],
   "source": [
    "# seperate treatment and control groups\n",
    "A = df[df[\"Variant\"]==\"A\"]\n",
    "B = df[df[\"Variant\"]==\"B\"]"
   ]
  },
  {
   "cell_type": "code",
   "execution_count": 22,
   "metadata": {},
   "outputs": [
    {
     "name": "stdout",
     "output_type": "stream",
     "text": [
      "The challenger wins 100.0% of the time.\n"
     ]
    }
   ],
   "source": [
    "# test using 1-sample \n",
    "\n",
    "log = []\n",
    "sample_list = []\n",
    "for i in range(10):\n",
    "    n = 1198\n",
    "\n",
    "    sample_B = B.sample(n=n,replace=True)\n",
    "    sample_list.append(sample_B)\n",
    "\n",
    "\n",
    "    convB = sample_B['renew'].sum()/n\n",
    "\n",
    "    z_sample = (convB-p_varA)/(((p_varA*(1-p_varA))/n)**0.5)\n",
    "    if z_sample >= 1.64:\n",
    "        log.append(1) # reject Null - Variant B is better \n",
    "   \n",
    "    else:\n",
    "        log.append(0) # fail to reject Null - Variant B is NOT better \n",
    "        \n",
    "        \n",
    "print(\"The challenger wins {}% of the time.\".format(sum(log)/len(log)*100))"
   ]
  },
  {
   "cell_type": "markdown",
   "metadata": {},
   "source": [
    "# Sequential Testing\n",
    "\n",
    "Assume P(Xi=1) under H0 = p-varA and P(Xi=1) under H1 = p-treatment.\n",
    "\n",
    "Set desired type 1 error = 5% and type 2 error = 20%."
   ]
  },
  {
   "cell_type": "code",
   "execution_count": 23,
   "metadata": {},
   "outputs": [
    {
     "name": "stdout",
     "output_type": "stream",
     "text": [
      "Success rate is 100.0%\n"
     ]
    }
   ],
   "source": [
    "# using the same sample as in part 2\n",
    "\n",
    "# set parameters \n",
    "n = 1198\n",
    "n_trials = 10\n",
    "alpha = .05\n",
    "beta = .2\n",
    "min_diff = p_treatment-p_varA # from original dataset\n",
    "upper_bound = np.log(1/alpha)\n",
    "lower_bound = np.log(beta)\n",
    "\n",
    "# test each observation in the sample:\n",
    "list_of_trials = []\n",
    "number_of_success = 0\n",
    "\n",
    "for j in range(len(sample_list)):\n",
    "    sample_B = sample_list[j]\n",
    "    log_lambda_n = 0\n",
    "    for i in range(len(sample_B)):  \n",
    "        \n",
    "        # update log_lambda_n\n",
    "        if sample_B['renew'].iloc[i] == True:\n",
    "            log_lambda_xi = np.log(p_treatment/p_varA)               \n",
    "        else:\n",
    "            log_lambda_xi = np.log((1-p_treatment)/(1-p_varA))\n",
    "\n",
    "        log_lambda_n += log_lambda_xi\n",
    "        \n",
    "        \n",
    "        # check if log_lambda_n is out of bounds\n",
    "        if log_lambda_n > upper_bound: # Accept H1\n",
    "            number_of_success += 1\n",
    "            break \n",
    "        \n",
    "        elif log_lambda_n < lower_bound: # Accept H0\n",
    "            break\n",
    "            \n",
    "    list_of_trials.append(i+1) # record the number of iterations required to stop test \n",
    "    \n",
    "print(\"Success rate is {}%\".format(number_of_success/n_trials*100))"
   ]
  },
  {
   "cell_type": "code",
   "execution_count": 24,
   "metadata": {},
   "outputs": [
    {
     "data": {
      "text/plain": [
       "80.1"
      ]
     },
     "execution_count": 24,
     "metadata": {},
     "output_type": "execute_result"
    }
   ],
   "source": [
    "# get the avg number of iterations required to stop the test\n",
    "np.mean(list_of_trials)"
   ]
  },
  {
   "cell_type": "code",
   "execution_count": 25,
   "metadata": {},
   "outputs": [
    {
     "data": {
      "text/plain": [
       "[113, 60, 130, 60, 73, 74, 51, 50, 168, 22]"
      ]
     },
     "execution_count": 25,
     "metadata": {},
     "output_type": "execute_result"
    }
   ],
   "source": [
    "# examine the list of trial number \n",
    "list_of_trials"
   ]
  },
  {
   "cell_type": "markdown",
   "metadata": {},
   "source": [
    "# Customer Segementation"
   ]
  },
  {
   "cell_type": "code",
   "execution_count": 26,
   "metadata": {},
   "outputs": [
    {
     "name": "stdout",
     "output_type": "stream",
     "text": [
      "<class 'pandas.core.frame.DataFrame'>\n",
      "Int64Index: 5676474 entries, 0 to 5676473\n",
      "Data columns (total 38 columns):\n",
      " #   Column                           Dtype         \n",
      "---  ------                           -----         \n",
      " 0   subid                            int64         \n",
      " 1   date                             datetime64[ns]\n",
      " 2   app_opens                        float64       \n",
      " 3   cust_service_mssgs               float64       \n",
      " 4   num_videos_completed             float64       \n",
      " 5   num_videos_more_than_30_seconds  float64       \n",
      " 6   num_videos_rated                 float64       \n",
      " 7   num_series_started               float64       \n",
      " 8   payment_period                   float64       \n",
      " 9   package_type                     object        \n",
      " 10  num_weekly_services_utilized     float64       \n",
      " 11  preferred_genre                  object        \n",
      " 12  intended_use                     object        \n",
      " 13  weekly_consumption_hour          float64       \n",
      " 14  num_ideal_streaming_services     float64       \n",
      " 15  retarget_TF                      bool          \n",
      " 16  age                              float64       \n",
      " 17  male_TF                          object        \n",
      " 18  country                          object        \n",
      " 19  attribution_technical            object        \n",
      " 20  attribution_survey               object        \n",
      " 21  op_sys                           object        \n",
      " 22  months_per_bill_period           int64         \n",
      " 23  plan_type                        object        \n",
      " 24  monthly_price                    float64       \n",
      " 25  discount_price                   float64       \n",
      " 26  account_creation_date            datetime64[ns]\n",
      " 27  creation_until_cancel_days       float64       \n",
      " 28  cancel_before_trial_end          bool          \n",
      " 29  trial_end_date                   datetime64[ns]\n",
      " 30  initial_credit_card_declined     bool          \n",
      " 31  revenue_net                      float64       \n",
      " 32  join_fee                         float64       \n",
      " 33  language                         object        \n",
      " 34  paid_TF                          bool          \n",
      " 35  refund_after_trial_TF            bool          \n",
      " 36  payment_type                     object        \n",
      " 37  num_trial_days                   int64         \n",
      "dtypes: bool(5), datetime64[ns](3), float64(16), int64(3), object(11)\n",
      "memory usage: 1.5+ GB\n"
     ]
    }
   ],
   "source": [
    "df = engagement.copy()\n",
    "# add other dataframe\n",
    "df = pd.DataFrame.merge(df,subscribers, on = ['subid'])\n",
    "df.info()"
   ]
  },
  {
   "cell_type": "code",
   "execution_count": 27,
   "metadata": {},
   "outputs": [],
   "source": [
    "df['Day of Week'] = df['account_creation_date'].dt.dayofweek\n",
    "df['Day of Week'] = df['Day of Week'].astype(str)\n",
    "def weekday(day):\n",
    "    day = int(day)\n",
    "    if day in [5,6]:\n",
    "        return(\"Weekend\")\n",
    "    else: return(\"Weekday\")"
   ]
  },
  {
   "cell_type": "code",
   "execution_count": 28,
   "metadata": {},
   "outputs": [],
   "source": [
    "df['Day of Week'] =df['Day of Week'].apply(weekday)\n",
    "df['preferred_genre'] = df['preferred_genre'].astype(str)\n",
    "df['package_type'] = df['package_type'].astype(str)\n",
    "df['intended_use'] = df['intended_use'].astype(str)\n",
    "df['op_sys'] = df['op_sys'].astype(str)\n",
    "df['payment_type'] = df['payment_type'].astype(str)\n",
    "df['op_sys'] = df['op_sys'].astype(str)"
   ]
  },
  {
   "cell_type": "code",
   "execution_count": 29,
   "metadata": {},
   "outputs": [
    {
     "data": {
      "text/plain": [
       "array(['Apple Pay', 'CBD', 'Najim', 'Paypal', 'RAKBANK',\n",
       "       'Standard Charter', 'nan'], dtype=object)"
      ]
     },
     "execution_count": 29,
     "metadata": {},
     "output_type": "execute_result"
    }
   ],
   "source": [
    "np.unique(df['payment_type'])"
   ]
  },
  {
   "cell_type": "code",
   "execution_count": 30,
   "metadata": {},
   "outputs": [
    {
     "data": {
      "text/plain": [
       "Index(['subid', 'date', 'app_opens', 'cust_service_mssgs',\n",
       "       'num_videos_completed', 'num_videos_more_than_30_seconds',\n",
       "       'num_videos_rated', 'num_series_started', 'payment_period',\n",
       "       'package_type', 'num_weekly_services_utilized', 'preferred_genre',\n",
       "       'intended_use', 'weekly_consumption_hour',\n",
       "       'num_ideal_streaming_services', 'retarget_TF', 'age', 'male_TF',\n",
       "       'country', 'attribution_technical', 'attribution_survey', 'op_sys',\n",
       "       'months_per_bill_period', 'plan_type', 'monthly_price',\n",
       "       'discount_price', 'account_creation_date', 'creation_until_cancel_days',\n",
       "       'cancel_before_trial_end', 'trial_end_date',\n",
       "       'initial_credit_card_declined', 'revenue_net', 'join_fee', 'language',\n",
       "       'paid_TF', 'refund_after_trial_TF', 'payment_type', 'num_trial_days',\n",
       "       'Day of Week'],\n",
       "      dtype='object')"
      ]
     },
     "execution_count": 30,
     "metadata": {},
     "output_type": "execute_result"
    }
   ],
   "source": [
    "df.columns"
   ]
  },
  {
   "cell_type": "code",
   "execution_count": 31,
   "metadata": {},
   "outputs": [],
   "source": [
    "df = df.dropna()\n",
    "id_col = df['subid']\n",
    "df = df.drop(columns=['subid','date','app_opens','num_videos_more_than_30_seconds','num_series_started',\n",
    "                     'payment_period','num_weekly_services_utilized','op_sys','attribution_survey',\n",
    "                     'months_per_bill_period','account_creation_date','creation_until_cancel_days','trial_end_date',\n",
    "                     'join_fee','cust_service_mssgs', 'num_videos_completed', 'num_videos_rated','weekly_consumption_hour', 'num_ideal_streaming_services','retarget_TF', 'attribution_technical','monthly_price', 'discount_price', 'cancel_before_trial_end','initial_credit_card_declined', 'revenue_net', 'paid_TF','refund_after_trial_TF', 'payment_type', 'Day of Week'])"
   ]
  },
  {
   "cell_type": "code",
   "execution_count": 32,
   "metadata": {},
   "outputs": [
    {
     "data": {
      "text/plain": [
       "Index(['package_type', 'preferred_genre', 'intended_use', 'age', 'male_TF',\n",
       "       'country', 'plan_type', 'language', 'num_trial_days'],\n",
       "      dtype='object')"
      ]
     },
     "execution_count": 32,
     "metadata": {},
     "output_type": "execute_result"
    }
   ],
   "source": [
    "df.columns"
   ]
  },
  {
   "cell_type": "code",
   "execution_count": 33,
   "metadata": {},
   "outputs": [
    {
     "data": {
      "text/html": [
       "<div>\n",
       "<style scoped>\n",
       "    .dataframe tbody tr th:only-of-type {\n",
       "        vertical-align: middle;\n",
       "    }\n",
       "\n",
       "    .dataframe tbody tr th {\n",
       "        vertical-align: top;\n",
       "    }\n",
       "\n",
       "    .dataframe thead th {\n",
       "        text-align: right;\n",
       "    }\n",
       "</style>\n",
       "<table border=\"1\" class=\"dataframe\">\n",
       "  <thead>\n",
       "    <tr style=\"text-align: right;\">\n",
       "      <th></th>\n",
       "      <th>package_type</th>\n",
       "      <th>preferred_genre</th>\n",
       "      <th>intended_use</th>\n",
       "      <th>age</th>\n",
       "      <th>male_TF</th>\n",
       "      <th>country</th>\n",
       "      <th>plan_type</th>\n",
       "      <th>language</th>\n",
       "      <th>num_trial_days</th>\n",
       "    </tr>\n",
       "  </thead>\n",
       "  <tbody>\n",
       "    <tr>\n",
       "      <th>3</th>\n",
       "      <td>nan</td>\n",
       "      <td>nan</td>\n",
       "      <td>expand regional access</td>\n",
       "      <td>29.0</td>\n",
       "      <td>False</td>\n",
       "      <td>UAE</td>\n",
       "      <td>base_uae_14_day_trial</td>\n",
       "      <td>ar</td>\n",
       "      <td>14</td>\n",
       "    </tr>\n",
       "    <tr>\n",
       "      <th>4</th>\n",
       "      <td>nan</td>\n",
       "      <td>nan</td>\n",
       "      <td>expand regional access</td>\n",
       "      <td>29.0</td>\n",
       "      <td>False</td>\n",
       "      <td>UAE</td>\n",
       "      <td>base_uae_14_day_trial</td>\n",
       "      <td>ar</td>\n",
       "      <td>14</td>\n",
       "    </tr>\n",
       "    <tr>\n",
       "      <th>5</th>\n",
       "      <td>nan</td>\n",
       "      <td>nan</td>\n",
       "      <td>expand regional access</td>\n",
       "      <td>29.0</td>\n",
       "      <td>False</td>\n",
       "      <td>UAE</td>\n",
       "      <td>base_uae_14_day_trial</td>\n",
       "      <td>ar</td>\n",
       "      <td>14</td>\n",
       "    </tr>\n",
       "    <tr>\n",
       "      <th>6</th>\n",
       "      <td>nan</td>\n",
       "      <td>nan</td>\n",
       "      <td>expand regional access</td>\n",
       "      <td>29.0</td>\n",
       "      <td>False</td>\n",
       "      <td>UAE</td>\n",
       "      <td>base_uae_14_day_trial</td>\n",
       "      <td>ar</td>\n",
       "      <td>14</td>\n",
       "    </tr>\n",
       "    <tr>\n",
       "      <th>7</th>\n",
       "      <td>nan</td>\n",
       "      <td>nan</td>\n",
       "      <td>expand regional access</td>\n",
       "      <td>29.0</td>\n",
       "      <td>False</td>\n",
       "      <td>UAE</td>\n",
       "      <td>base_uae_14_day_trial</td>\n",
       "      <td>ar</td>\n",
       "      <td>14</td>\n",
       "    </tr>\n",
       "  </tbody>\n",
       "</table>\n",
       "</div>"
      ],
      "text/plain": [
       "  package_type preferred_genre            intended_use   age male_TF country  \\\n",
       "3          nan             nan  expand regional access  29.0   False     UAE   \n",
       "4          nan             nan  expand regional access  29.0   False     UAE   \n",
       "5          nan             nan  expand regional access  29.0   False     UAE   \n",
       "6          nan             nan  expand regional access  29.0   False     UAE   \n",
       "7          nan             nan  expand regional access  29.0   False     UAE   \n",
       "\n",
       "               plan_type language  num_trial_days  \n",
       "3  base_uae_14_day_trial       ar              14  \n",
       "4  base_uae_14_day_trial       ar              14  \n",
       "5  base_uae_14_day_trial       ar              14  \n",
       "6  base_uae_14_day_trial       ar              14  \n",
       "7  base_uae_14_day_trial       ar              14  "
      ]
     },
     "execution_count": 33,
     "metadata": {},
     "output_type": "execute_result"
    }
   ],
   "source": [
    "df.head()"
   ]
  },
  {
   "cell_type": "code",
   "execution_count": 34,
   "metadata": {},
   "outputs": [],
   "source": [
    "df_new = pd.get_dummies(df)"
   ]
  },
  {
   "cell_type": "code",
   "execution_count": 35,
   "metadata": {},
   "outputs": [
    {
     "data": {
      "text/html": [
       "<div>\n",
       "<style scoped>\n",
       "    .dataframe tbody tr th:only-of-type {\n",
       "        vertical-align: middle;\n",
       "    }\n",
       "\n",
       "    .dataframe tbody tr th {\n",
       "        vertical-align: top;\n",
       "    }\n",
       "\n",
       "    .dataframe thead th {\n",
       "        text-align: right;\n",
       "    }\n",
       "</style>\n",
       "<table border=\"1\" class=\"dataframe\">\n",
       "  <thead>\n",
       "    <tr style=\"text-align: right;\">\n",
       "      <th></th>\n",
       "      <th>age</th>\n",
       "      <th>num_trial_days</th>\n",
       "      <th>package_type_base</th>\n",
       "      <th>package_type_economy</th>\n",
       "      <th>package_type_enhanced</th>\n",
       "      <th>package_type_nan</th>\n",
       "      <th>preferred_genre_comedy</th>\n",
       "      <th>preferred_genre_drama</th>\n",
       "      <th>preferred_genre_international</th>\n",
       "      <th>preferred_genre_nan</th>\n",
       "      <th>...</th>\n",
       "      <th>male_TF_False</th>\n",
       "      <th>male_TF_True</th>\n",
       "      <th>country_UAE</th>\n",
       "      <th>plan_type_base_eur_14_day_trial</th>\n",
       "      <th>plan_type_base_uae_14_day_trial</th>\n",
       "      <th>plan_type_high_aud_14_day_trial</th>\n",
       "      <th>plan_type_high_sar_14_day_trial</th>\n",
       "      <th>plan_type_high_uae_14_day_trial</th>\n",
       "      <th>plan_type_low_gbp_14_day_trial</th>\n",
       "      <th>language_ar</th>\n",
       "    </tr>\n",
       "  </thead>\n",
       "  <tbody>\n",
       "    <tr>\n",
       "      <th>3</th>\n",
       "      <td>29.0</td>\n",
       "      <td>14</td>\n",
       "      <td>0</td>\n",
       "      <td>0</td>\n",
       "      <td>0</td>\n",
       "      <td>1</td>\n",
       "      <td>0</td>\n",
       "      <td>0</td>\n",
       "      <td>0</td>\n",
       "      <td>1</td>\n",
       "      <td>...</td>\n",
       "      <td>1</td>\n",
       "      <td>0</td>\n",
       "      <td>1</td>\n",
       "      <td>0</td>\n",
       "      <td>1</td>\n",
       "      <td>0</td>\n",
       "      <td>0</td>\n",
       "      <td>0</td>\n",
       "      <td>0</td>\n",
       "      <td>1</td>\n",
       "    </tr>\n",
       "    <tr>\n",
       "      <th>4</th>\n",
       "      <td>29.0</td>\n",
       "      <td>14</td>\n",
       "      <td>0</td>\n",
       "      <td>0</td>\n",
       "      <td>0</td>\n",
       "      <td>1</td>\n",
       "      <td>0</td>\n",
       "      <td>0</td>\n",
       "      <td>0</td>\n",
       "      <td>1</td>\n",
       "      <td>...</td>\n",
       "      <td>1</td>\n",
       "      <td>0</td>\n",
       "      <td>1</td>\n",
       "      <td>0</td>\n",
       "      <td>1</td>\n",
       "      <td>0</td>\n",
       "      <td>0</td>\n",
       "      <td>0</td>\n",
       "      <td>0</td>\n",
       "      <td>1</td>\n",
       "    </tr>\n",
       "    <tr>\n",
       "      <th>5</th>\n",
       "      <td>29.0</td>\n",
       "      <td>14</td>\n",
       "      <td>0</td>\n",
       "      <td>0</td>\n",
       "      <td>0</td>\n",
       "      <td>1</td>\n",
       "      <td>0</td>\n",
       "      <td>0</td>\n",
       "      <td>0</td>\n",
       "      <td>1</td>\n",
       "      <td>...</td>\n",
       "      <td>1</td>\n",
       "      <td>0</td>\n",
       "      <td>1</td>\n",
       "      <td>0</td>\n",
       "      <td>1</td>\n",
       "      <td>0</td>\n",
       "      <td>0</td>\n",
       "      <td>0</td>\n",
       "      <td>0</td>\n",
       "      <td>1</td>\n",
       "    </tr>\n",
       "    <tr>\n",
       "      <th>6</th>\n",
       "      <td>29.0</td>\n",
       "      <td>14</td>\n",
       "      <td>0</td>\n",
       "      <td>0</td>\n",
       "      <td>0</td>\n",
       "      <td>1</td>\n",
       "      <td>0</td>\n",
       "      <td>0</td>\n",
       "      <td>0</td>\n",
       "      <td>1</td>\n",
       "      <td>...</td>\n",
       "      <td>1</td>\n",
       "      <td>0</td>\n",
       "      <td>1</td>\n",
       "      <td>0</td>\n",
       "      <td>1</td>\n",
       "      <td>0</td>\n",
       "      <td>0</td>\n",
       "      <td>0</td>\n",
       "      <td>0</td>\n",
       "      <td>1</td>\n",
       "    </tr>\n",
       "    <tr>\n",
       "      <th>7</th>\n",
       "      <td>29.0</td>\n",
       "      <td>14</td>\n",
       "      <td>0</td>\n",
       "      <td>0</td>\n",
       "      <td>0</td>\n",
       "      <td>1</td>\n",
       "      <td>0</td>\n",
       "      <td>0</td>\n",
       "      <td>0</td>\n",
       "      <td>1</td>\n",
       "      <td>...</td>\n",
       "      <td>1</td>\n",
       "      <td>0</td>\n",
       "      <td>1</td>\n",
       "      <td>0</td>\n",
       "      <td>1</td>\n",
       "      <td>0</td>\n",
       "      <td>0</td>\n",
       "      <td>0</td>\n",
       "      <td>0</td>\n",
       "      <td>1</td>\n",
       "    </tr>\n",
       "  </tbody>\n",
       "</table>\n",
       "<p>5 rows × 30 columns</p>\n",
       "</div>"
      ],
      "text/plain": [
       "    age  num_trial_days  package_type_base  package_type_economy  \\\n",
       "3  29.0              14                  0                     0   \n",
       "4  29.0              14                  0                     0   \n",
       "5  29.0              14                  0                     0   \n",
       "6  29.0              14                  0                     0   \n",
       "7  29.0              14                  0                     0   \n",
       "\n",
       "   package_type_enhanced  package_type_nan  preferred_genre_comedy  \\\n",
       "3                      0                 1                       0   \n",
       "4                      0                 1                       0   \n",
       "5                      0                 1                       0   \n",
       "6                      0                 1                       0   \n",
       "7                      0                 1                       0   \n",
       "\n",
       "   preferred_genre_drama  preferred_genre_international  preferred_genre_nan  \\\n",
       "3                      0                              0                    1   \n",
       "4                      0                              0                    1   \n",
       "5                      0                              0                    1   \n",
       "6                      0                              0                    1   \n",
       "7                      0                              0                    1   \n",
       "\n",
       "   ...  male_TF_False  male_TF_True  country_UAE  \\\n",
       "3  ...              1             0            1   \n",
       "4  ...              1             0            1   \n",
       "5  ...              1             0            1   \n",
       "6  ...              1             0            1   \n",
       "7  ...              1             0            1   \n",
       "\n",
       "   plan_type_base_eur_14_day_trial  plan_type_base_uae_14_day_trial  \\\n",
       "3                                0                                1   \n",
       "4                                0                                1   \n",
       "5                                0                                1   \n",
       "6                                0                                1   \n",
       "7                                0                                1   \n",
       "\n",
       "   plan_type_high_aud_14_day_trial  plan_type_high_sar_14_day_trial  \\\n",
       "3                                0                                0   \n",
       "4                                0                                0   \n",
       "5                                0                                0   \n",
       "6                                0                                0   \n",
       "7                                0                                0   \n",
       "\n",
       "   plan_type_high_uae_14_day_trial  plan_type_low_gbp_14_day_trial  \\\n",
       "3                                0                               0   \n",
       "4                                0                               0   \n",
       "5                                0                               0   \n",
       "6                                0                               0   \n",
       "7                                0                               0   \n",
       "\n",
       "   language_ar  \n",
       "3            1  \n",
       "4            1  \n",
       "5            1  \n",
       "6            1  \n",
       "7            1  \n",
       "\n",
       "[5 rows x 30 columns]"
      ]
     },
     "execution_count": 35,
     "metadata": {},
     "output_type": "execute_result"
    }
   ],
   "source": [
    "df_new.head()"
   ]
  },
  {
   "cell_type": "code",
   "execution_count": 36,
   "metadata": {},
   "outputs": [],
   "source": [
    "# split data \n",
    "from sklearn.model_selection import train_test_split\n",
    "\n",
    "train, test = train_test_split(df_new, test_size=0.33, random_state=42)\n",
    "\n",
    "# scale data after splitting (fit using training set)\n",
    "from sklearn.preprocessing import MinMaxScaler\n",
    "\n",
    "scaler = MinMaxScaler()\n",
    "\n",
    "X1 = scaler.fit_transform(train)\n",
    "X2 = scaler.transform(test)\n",
    "\n",
    "X = scaler.transform(df_new)"
   ]
  },
  {
   "cell_type": "code",
   "execution_count": 37,
   "metadata": {},
   "outputs": [
    {
     "data": {
      "text/plain": [
       "466155"
      ]
     },
     "execution_count": 37,
     "metadata": {},
     "output_type": "execute_result"
    }
   ],
   "source": [
    "len(X1)"
   ]
  },
  {
   "cell_type": "code",
   "execution_count": 38,
   "metadata": {},
   "outputs": [
    {
     "data": {
      "text/plain": [
       "229599"
      ]
     },
     "execution_count": 38,
     "metadata": {},
     "output_type": "execute_result"
    }
   ],
   "source": [
    "len(X2)"
   ]
  },
  {
   "cell_type": "markdown",
   "metadata": {},
   "source": [
    "# Training Model"
   ]
  },
  {
   "cell_type": "code",
   "execution_count": 39,
   "metadata": {},
   "outputs": [
    {
     "data": {
      "image/png": "[encoded data removed]",
      "text/plain": [
       "<Figure size 432x288 with 1 Axes>"
      ]
     },
     "metadata": {
      "needs_background": "light"
     },
     "output_type": "display_data"
    }
   ],
   "source": [
    "from sklearn.cluster import KMeans\n",
    "# use the elbow method\n",
    "\n",
    "# calculate distortion for a range of number of cluster\n",
    "distortions = []\n",
    "for i in range(1, 11):\n",
    "    km = KMeans(\n",
    "        n_clusters=i, init='random',\n",
    "        n_init=10, max_iter=300,\n",
    "        tol=1e-04, random_state=0\n",
    "    )\n",
    "    km.fit(X1)\n",
    "    distortions.append(km.inertia_)\n",
    "\n",
    "# plot\n",
    "plt.plot(range(1, 11), distortions, marker='o')\n",
    "plt.xlabel('Number of clusters')\n",
    "plt.ylabel('Distortion')\n",
    "plt.show()"
   ]
  },
  {
   "cell_type": "code",
   "execution_count": 40,
   "metadata": {},
   "outputs": [],
   "source": [
    "km = KMeans(\n",
    "    n_clusters=4, init='random',\n",
    "    n_init=10, max_iter=300, \n",
    "    tol=1e-04, random_state=0\n",
    ")\n",
    "y1 = km.fit_predict(X1)\n",
    "y2 = km.predict(X2)\n",
    "y_km = km.predict(X)"
   ]
  },
  {
   "cell_type": "code",
   "execution_count": 41,
   "metadata": {},
   "outputs": [],
   "source": [
    "# assign the split dataframes back to dataframe\n",
    "train = pd.DataFrame(train,columns=df_new.columns)\n",
    "test = pd.DataFrame(test,columns=df_new.columns)"
   ]
  },
  {
   "cell_type": "code",
   "execution_count": 42,
   "metadata": {},
   "outputs": [],
   "source": [
    "# assign results back to the dataframes\n",
    "train['Cluster'] = y1\n",
    "test['Cluster'] = y2"
   ]
  },
  {
   "cell_type": "code",
   "execution_count": 43,
   "metadata": {},
   "outputs": [
    {
     "data": {
      "text/html": [
       "<div>\n",
       "<style scoped>\n",
       "    .dataframe tbody tr th:only-of-type {\n",
       "        vertical-align: middle;\n",
       "    }\n",
       "\n",
       "    .dataframe tbody tr th {\n",
       "        vertical-align: top;\n",
       "    }\n",
       "\n",
       "    .dataframe thead th {\n",
       "        text-align: right;\n",
       "    }\n",
       "</style>\n",
       "<table border=\"1\" class=\"dataframe\">\n",
       "  <thead>\n",
       "    <tr style=\"text-align: right;\">\n",
       "      <th></th>\n",
       "      <th>age</th>\n",
       "      <th>num_trial_days</th>\n",
       "      <th>package_type_base</th>\n",
       "      <th>package_type_economy</th>\n",
       "      <th>package_type_enhanced</th>\n",
       "      <th>package_type_nan</th>\n",
       "      <th>preferred_genre_comedy</th>\n",
       "      <th>preferred_genre_drama</th>\n",
       "      <th>preferred_genre_international</th>\n",
       "      <th>preferred_genre_nan</th>\n",
       "      <th>...</th>\n",
       "      <th>male_TF_False</th>\n",
       "      <th>male_TF_True</th>\n",
       "      <th>country_UAE</th>\n",
       "      <th>plan_type_base_eur_14_day_trial</th>\n",
       "      <th>plan_type_base_uae_14_day_trial</th>\n",
       "      <th>plan_type_high_aud_14_day_trial</th>\n",
       "      <th>plan_type_high_sar_14_day_trial</th>\n",
       "      <th>plan_type_high_uae_14_day_trial</th>\n",
       "      <th>plan_type_low_gbp_14_day_trial</th>\n",
       "      <th>language_ar</th>\n",
       "    </tr>\n",
       "    <tr>\n",
       "      <th>Cluster</th>\n",
       "      <th></th>\n",
       "      <th></th>\n",
       "      <th></th>\n",
       "      <th></th>\n",
       "      <th></th>\n",
       "      <th></th>\n",
       "      <th></th>\n",
       "      <th></th>\n",
       "      <th></th>\n",
       "      <th></th>\n",
       "      <th></th>\n",
       "      <th></th>\n",
       "      <th></th>\n",
       "      <th></th>\n",
       "      <th></th>\n",
       "      <th></th>\n",
       "      <th></th>\n",
       "      <th></th>\n",
       "      <th></th>\n",
       "      <th></th>\n",
       "      <th></th>\n",
       "    </tr>\n",
       "  </thead>\n",
       "  <tbody>\n",
       "    <tr>\n",
       "      <th>0</th>\n",
       "      <td>652.283654</td>\n",
       "      <td>14</td>\n",
       "      <td>0.000163</td>\n",
       "      <td>0.000340</td>\n",
       "      <td>0.0</td>\n",
       "      <td>0.999497</td>\n",
       "      <td>0.000436</td>\n",
       "      <td>0.000000</td>\n",
       "      <td>0.000059</td>\n",
       "      <td>0.999453</td>\n",
       "      <td>...</td>\n",
       "      <td>0.910370</td>\n",
       "      <td>0.089630</td>\n",
       "      <td>1.0</td>\n",
       "      <td>0.000000</td>\n",
       "      <td>0.999571</td>\n",
       "      <td>0.000000</td>\n",
       "      <td>0.000089</td>\n",
       "      <td>0.000340</td>\n",
       "      <td>0.000000</td>\n",
       "      <td>1.0</td>\n",
       "    </tr>\n",
       "    <tr>\n",
       "      <th>1</th>\n",
       "      <td>130.050551</td>\n",
       "      <td>14</td>\n",
       "      <td>0.000000</td>\n",
       "      <td>0.000000</td>\n",
       "      <td>1.0</td>\n",
       "      <td>0.000000</td>\n",
       "      <td>0.660071</td>\n",
       "      <td>0.193633</td>\n",
       "      <td>0.030931</td>\n",
       "      <td>0.001607</td>\n",
       "      <td>...</td>\n",
       "      <td>0.865007</td>\n",
       "      <td>0.134993</td>\n",
       "      <td>1.0</td>\n",
       "      <td>0.000044</td>\n",
       "      <td>0.996347</td>\n",
       "      <td>0.000000</td>\n",
       "      <td>0.000088</td>\n",
       "      <td>0.003495</td>\n",
       "      <td>0.000026</td>\n",
       "      <td>1.0</td>\n",
       "    </tr>\n",
       "    <tr>\n",
       "      <th>2</th>\n",
       "      <td>51.784562</td>\n",
       "      <td>14</td>\n",
       "      <td>0.842728</td>\n",
       "      <td>0.156867</td>\n",
       "      <td>0.0</td>\n",
       "      <td>0.000405</td>\n",
       "      <td>0.000000</td>\n",
       "      <td>0.657499</td>\n",
       "      <td>0.102073</td>\n",
       "      <td>0.005884</td>\n",
       "      <td>...</td>\n",
       "      <td>0.870864</td>\n",
       "      <td>0.129136</td>\n",
       "      <td>1.0</td>\n",
       "      <td>0.000107</td>\n",
       "      <td>0.997272</td>\n",
       "      <td>0.000000</td>\n",
       "      <td>0.000000</td>\n",
       "      <td>0.002621</td>\n",
       "      <td>0.000000</td>\n",
       "      <td>1.0</td>\n",
       "    </tr>\n",
       "    <tr>\n",
       "      <th>3</th>\n",
       "      <td>67.181632</td>\n",
       "      <td>14</td>\n",
       "      <td>0.875161</td>\n",
       "      <td>0.124140</td>\n",
       "      <td>0.0</td>\n",
       "      <td>0.000699</td>\n",
       "      <td>1.000000</td>\n",
       "      <td>0.000000</td>\n",
       "      <td>0.000000</td>\n",
       "      <td>0.000000</td>\n",
       "      <td>...</td>\n",
       "      <td>0.908345</td>\n",
       "      <td>0.091655</td>\n",
       "      <td>1.0</td>\n",
       "      <td>0.000000</td>\n",
       "      <td>0.994525</td>\n",
       "      <td>0.000015</td>\n",
       "      <td>0.000000</td>\n",
       "      <td>0.005460</td>\n",
       "      <td>0.000000</td>\n",
       "      <td>1.0</td>\n",
       "    </tr>\n",
       "  </tbody>\n",
       "</table>\n",
       "<p>4 rows × 30 columns</p>\n",
       "</div>"
      ],
      "text/plain": [
       "                age  num_trial_days  package_type_base  package_type_economy  \\\n",
       "Cluster                                                                        \n",
       "0        652.283654              14           0.000163              0.000340   \n",
       "1        130.050551              14           0.000000              0.000000   \n",
       "2         51.784562              14           0.842728              0.156867   \n",
       "3         67.181632              14           0.875161              0.124140   \n",
       "\n",
       "         package_type_enhanced  package_type_nan  preferred_genre_comedy  \\\n",
       "Cluster                                                                    \n",
       "0                          0.0          0.999497                0.000436   \n",
       "1                          1.0          0.000000                0.660071   \n",
       "2                          0.0          0.000405                0.000000   \n",
       "3                          0.0          0.000699                1.000000   \n",
       "\n",
       "         preferred_genre_drama  preferred_genre_international  \\\n",
       "Cluster                                                         \n",
       "0                     0.000000                       0.000059   \n",
       "1                     0.193633                       0.030931   \n",
       "2                     0.657499                       0.102073   \n",
       "3                     0.000000                       0.000000   \n",
       "\n",
       "         preferred_genre_nan  ...  male_TF_False  male_TF_True  country_UAE  \\\n",
       "Cluster                       ...                                             \n",
       "0                   0.999453  ...       0.910370      0.089630          1.0   \n",
       "1                   0.001607  ...       0.865007      0.134993          1.0   \n",
       "2                   0.005884  ...       0.870864      0.129136          1.0   \n",
       "3                   0.000000  ...       0.908345      0.091655          1.0   \n",
       "\n",
       "         plan_type_base_eur_14_day_trial  plan_type_base_uae_14_day_trial  \\\n",
       "Cluster                                                                     \n",
       "0                               0.000000                         0.999571   \n",
       "1                               0.000044                         0.996347   \n",
       "2                               0.000107                         0.997272   \n",
       "3                               0.000000                         0.994525   \n",
       "\n",
       "         plan_type_high_aud_14_day_trial  plan_type_high_sar_14_day_trial  \\\n",
       "Cluster                                                                     \n",
       "0                               0.000000                         0.000089   \n",
       "1                               0.000000                         0.000088   \n",
       "2                               0.000000                         0.000000   \n",
       "3                               0.000015                         0.000000   \n",
       "\n",
       "         plan_type_high_uae_14_day_trial  plan_type_low_gbp_14_day_trial  \\\n",
       "Cluster                                                                    \n",
       "0                               0.000340                        0.000000   \n",
       "1                               0.003495                        0.000026   \n",
       "2                               0.002621                        0.000000   \n",
       "3                               0.005460                        0.000000   \n",
       "\n",
       "         language_ar  \n",
       "Cluster               \n",
       "0                1.0  \n",
       "1                1.0  \n",
       "2                1.0  \n",
       "3                1.0  \n",
       "\n",
       "[4 rows x 30 columns]"
      ]
     },
     "execution_count": 43,
     "metadata": {},
     "output_type": "execute_result"
    }
   ],
   "source": [
    "train.groupby(by='Cluster').mean()"
   ]
  },
  {
   "cell_type": "code",
   "execution_count": 44,
   "metadata": {},
   "outputs": [
    {
     "name": "stdout",
     "output_type": "stream",
     "text": [
      "Cluster 0 is 7.909925142387428%\n",
      "Cluster 1 is 6.6617132125587615%\n"
     ]
    }
   ],
   "source": [
    "for i in [0,1]:\n",
    "    print(\"Cluster {} is {}%\".format(i,train['Cluster'].value_counts()[i]/17092.45))"
   ]
  },
  {
   "cell_type": "code",
   "execution_count": 45,
   "metadata": {},
   "outputs": [
    {
     "name": "stdout",
     "output_type": "stream",
     "text": [
      "Cluster 0 is 7.928796438396518%\n",
      "Cluster 1 is 6.63607596440297%\n"
     ]
    }
   ],
   "source": [
    "for i in [0,1]:\n",
    "    print(\"Cluster {} is {}%\".format(i,test['Cluster'].value_counts()[i]/8418.68))"
   ]
  },
  {
   "cell_type": "code",
   "execution_count": 46,
   "metadata": {},
   "outputs": [
    {
     "data": {
      "text/html": [
       "<div>\n",
       "<style scoped>\n",
       "    .dataframe tbody tr th:only-of-type {\n",
       "        vertical-align: middle;\n",
       "    }\n",
       "\n",
       "    .dataframe tbody tr th {\n",
       "        vertical-align: top;\n",
       "    }\n",
       "\n",
       "    .dataframe thead th {\n",
       "        text-align: right;\n",
       "    }\n",
       "</style>\n",
       "<table border=\"1\" class=\"dataframe\">\n",
       "  <thead>\n",
       "    <tr style=\"text-align: right;\">\n",
       "      <th></th>\n",
       "      <th>age</th>\n",
       "      <th>num_trial_days</th>\n",
       "      <th>package_type_base</th>\n",
       "      <th>package_type_economy</th>\n",
       "      <th>package_type_enhanced</th>\n",
       "      <th>package_type_nan</th>\n",
       "      <th>preferred_genre_comedy</th>\n",
       "      <th>preferred_genre_drama</th>\n",
       "      <th>preferred_genre_international</th>\n",
       "      <th>preferred_genre_nan</th>\n",
       "      <th>...</th>\n",
       "      <th>male_TF_False</th>\n",
       "      <th>male_TF_True</th>\n",
       "      <th>country_UAE</th>\n",
       "      <th>plan_type_base_eur_14_day_trial</th>\n",
       "      <th>plan_type_base_uae_14_day_trial</th>\n",
       "      <th>plan_type_high_aud_14_day_trial</th>\n",
       "      <th>plan_type_high_sar_14_day_trial</th>\n",
       "      <th>plan_type_high_uae_14_day_trial</th>\n",
       "      <th>plan_type_low_gbp_14_day_trial</th>\n",
       "      <th>language_ar</th>\n",
       "    </tr>\n",
       "    <tr>\n",
       "      <th>Cluster</th>\n",
       "      <th></th>\n",
       "      <th></th>\n",
       "      <th></th>\n",
       "      <th></th>\n",
       "      <th></th>\n",
       "      <th></th>\n",
       "      <th></th>\n",
       "      <th></th>\n",
       "      <th></th>\n",
       "      <th></th>\n",
       "      <th></th>\n",
       "      <th></th>\n",
       "      <th></th>\n",
       "      <th></th>\n",
       "      <th></th>\n",
       "      <th></th>\n",
       "      <th></th>\n",
       "      <th></th>\n",
       "      <th></th>\n",
       "      <th></th>\n",
       "      <th></th>\n",
       "    </tr>\n",
       "  </thead>\n",
       "  <tbody>\n",
       "    <tr>\n",
       "      <th>0</th>\n",
       "      <td>495.323080</td>\n",
       "      <td>14</td>\n",
       "      <td>0.000178</td>\n",
       "      <td>0.000366</td>\n",
       "      <td>0.000005</td>\n",
       "      <td>0.999450</td>\n",
       "      <td>0.000446</td>\n",
       "      <td>0.000000</td>\n",
       "      <td>0.000059</td>\n",
       "      <td>0.999401</td>\n",
       "      <td>...</td>\n",
       "      <td>0.911077</td>\n",
       "      <td>0.088923</td>\n",
       "      <td>1.0</td>\n",
       "      <td>0.000000</td>\n",
       "      <td>0.999530</td>\n",
       "      <td>0.00000</td>\n",
       "      <td>0.000094</td>\n",
       "      <td>0.000376</td>\n",
       "      <td>0.000000</td>\n",
       "      <td>1.0</td>\n",
       "    </tr>\n",
       "    <tr>\n",
       "      <th>1</th>\n",
       "      <td>124.752215</td>\n",
       "      <td>14</td>\n",
       "      <td>0.000000</td>\n",
       "      <td>0.000000</td>\n",
       "      <td>1.000000</td>\n",
       "      <td>0.000000</td>\n",
       "      <td>0.660323</td>\n",
       "      <td>0.193169</td>\n",
       "      <td>0.030083</td>\n",
       "      <td>0.001514</td>\n",
       "      <td>...</td>\n",
       "      <td>0.864763</td>\n",
       "      <td>0.135237</td>\n",
       "      <td>1.0</td>\n",
       "      <td>0.000059</td>\n",
       "      <td>0.996406</td>\n",
       "      <td>0.00000</td>\n",
       "      <td>0.000094</td>\n",
       "      <td>0.003411</td>\n",
       "      <td>0.000029</td>\n",
       "      <td>1.0</td>\n",
       "    </tr>\n",
       "    <tr>\n",
       "      <th>2</th>\n",
       "      <td>51.813238</td>\n",
       "      <td>14</td>\n",
       "      <td>0.842745</td>\n",
       "      <td>0.156896</td>\n",
       "      <td>0.000000</td>\n",
       "      <td>0.000359</td>\n",
       "      <td>0.000000</td>\n",
       "      <td>0.656581</td>\n",
       "      <td>0.102271</td>\n",
       "      <td>0.005664</td>\n",
       "      <td>...</td>\n",
       "      <td>0.870464</td>\n",
       "      <td>0.129536</td>\n",
       "      <td>1.0</td>\n",
       "      <td>0.000096</td>\n",
       "      <td>0.997264</td>\n",
       "      <td>0.00000</td>\n",
       "      <td>0.000000</td>\n",
       "      <td>0.002640</td>\n",
       "      <td>0.000000</td>\n",
       "      <td>1.0</td>\n",
       "    </tr>\n",
       "    <tr>\n",
       "      <th>3</th>\n",
       "      <td>73.379884</td>\n",
       "      <td>14</td>\n",
       "      <td>0.874580</td>\n",
       "      <td>0.124760</td>\n",
       "      <td>0.000000</td>\n",
       "      <td>0.000659</td>\n",
       "      <td>1.000000</td>\n",
       "      <td>0.000000</td>\n",
       "      <td>0.000000</td>\n",
       "      <td>0.000000</td>\n",
       "      <td>...</td>\n",
       "      <td>0.908605</td>\n",
       "      <td>0.091395</td>\n",
       "      <td>1.0</td>\n",
       "      <td>0.000000</td>\n",
       "      <td>0.994560</td>\n",
       "      <td>0.00002</td>\n",
       "      <td>0.000000</td>\n",
       "      <td>0.005420</td>\n",
       "      <td>0.000000</td>\n",
       "      <td>1.0</td>\n",
       "    </tr>\n",
       "  </tbody>\n",
       "</table>\n",
       "<p>4 rows × 30 columns</p>\n",
       "</div>"
      ],
      "text/plain": [
       "                age  num_trial_days  package_type_base  package_type_economy  \\\n",
       "Cluster                                                                        \n",
       "0        495.323080              14           0.000178              0.000366   \n",
       "1        124.752215              14           0.000000              0.000000   \n",
       "2         51.813238              14           0.842745              0.156896   \n",
       "3         73.379884              14           0.874580              0.124760   \n",
       "\n",
       "         package_type_enhanced  package_type_nan  preferred_genre_comedy  \\\n",
       "Cluster                                                                    \n",
       "0                     0.000005          0.999450                0.000446   \n",
       "1                     1.000000          0.000000                0.660323   \n",
       "2                     0.000000          0.000359                0.000000   \n",
       "3                     0.000000          0.000659                1.000000   \n",
       "\n",
       "         preferred_genre_drama  preferred_genre_international  \\\n",
       "Cluster                                                         \n",
       "0                     0.000000                       0.000059   \n",
       "1                     0.193169                       0.030083   \n",
       "2                     0.656581                       0.102271   \n",
       "3                     0.000000                       0.000000   \n",
       "\n",
       "         preferred_genre_nan  ...  male_TF_False  male_TF_True  country_UAE  \\\n",
       "Cluster                       ...                                             \n",
       "0                   0.999401  ...       0.911077      0.088923          1.0   \n",
       "1                   0.001514  ...       0.864763      0.135237          1.0   \n",
       "2                   0.005664  ...       0.870464      0.129536          1.0   \n",
       "3                   0.000000  ...       0.908605      0.091395          1.0   \n",
       "\n",
       "         plan_type_base_eur_14_day_trial  plan_type_base_uae_14_day_trial  \\\n",
       "Cluster                                                                     \n",
       "0                               0.000000                         0.999530   \n",
       "1                               0.000059                         0.996406   \n",
       "2                               0.000096                         0.997264   \n",
       "3                               0.000000                         0.994560   \n",
       "\n",
       "         plan_type_high_aud_14_day_trial  plan_type_high_sar_14_day_trial  \\\n",
       "Cluster                                                                     \n",
       "0                                0.00000                         0.000094   \n",
       "1                                0.00000                         0.000094   \n",
       "2                                0.00000                         0.000000   \n",
       "3                                0.00002                         0.000000   \n",
       "\n",
       "         plan_type_high_uae_14_day_trial  plan_type_low_gbp_14_day_trial  \\\n",
       "Cluster                                                                    \n",
       "0                               0.000376                        0.000000   \n",
       "1                               0.003411                        0.000029   \n",
       "2                               0.002640                        0.000000   \n",
       "3                               0.005420                        0.000000   \n",
       "\n",
       "         language_ar  \n",
       "Cluster               \n",
       "0                1.0  \n",
       "1                1.0  \n",
       "2                1.0  \n",
       "3                1.0  \n",
       "\n",
       "[4 rows x 30 columns]"
      ]
     },
     "execution_count": 46,
     "metadata": {},
     "output_type": "execute_result"
    }
   ],
   "source": [
    "df_new['Cluster'] = y_km # predict on whole dataset\n",
    "\n",
    "# check out the clusters - whole dataset \n",
    "\n",
    "df_new.groupby(by='Cluster').mean()"
   ]
  },
  {
   "cell_type": "code",
   "execution_count": 47,
   "metadata": {},
   "outputs": [],
   "source": [
    "df_new.groupby(by='Cluster').mean().to_csv('Segmentation.csv')"
   ]
  },
  {
   "cell_type": "code",
   "execution_count": 48,
   "metadata": {},
   "outputs": [],
   "source": [
    "# assign ticket id back to the dataset for further visualization\n",
    "df_new = pd.concat([df_new,id_col],axis=1)"
   ]
  },
  {
   "cell_type": "code",
   "execution_count": 49,
   "metadata": {},
   "outputs": [],
   "source": [
    "# save the result on the whole dataset to file \n",
    "df_new.to_csv('Result.csv')"
   ]
  },
  {
   "cell_type": "code",
   "execution_count": 50,
   "metadata": {},
   "outputs": [
    {
     "data": {
      "text/html": [
       "<div>\n",
       "<style scoped>\n",
       "    .dataframe tbody tr th:only-of-type {\n",
       "        vertical-align: middle;\n",
       "    }\n",
       "\n",
       "    .dataframe tbody tr th {\n",
       "        vertical-align: top;\n",
       "    }\n",
       "\n",
       "    .dataframe thead th {\n",
       "        text-align: right;\n",
       "    }\n",
       "</style>\n",
       "<table border=\"1\" class=\"dataframe\">\n",
       "  <thead>\n",
       "    <tr style=\"text-align: right;\">\n",
       "      <th></th>\n",
       "      <th>age</th>\n",
       "      <th>num_trial_days</th>\n",
       "      <th>package_type_base</th>\n",
       "      <th>package_type_economy</th>\n",
       "      <th>package_type_enhanced</th>\n",
       "      <th>package_type_nan</th>\n",
       "      <th>preferred_genre_comedy</th>\n",
       "      <th>preferred_genre_drama</th>\n",
       "      <th>preferred_genre_international</th>\n",
       "      <th>preferred_genre_nan</th>\n",
       "      <th>...</th>\n",
       "      <th>country_UAE</th>\n",
       "      <th>plan_type_base_eur_14_day_trial</th>\n",
       "      <th>plan_type_base_uae_14_day_trial</th>\n",
       "      <th>plan_type_high_aud_14_day_trial</th>\n",
       "      <th>plan_type_high_sar_14_day_trial</th>\n",
       "      <th>plan_type_high_uae_14_day_trial</th>\n",
       "      <th>plan_type_low_gbp_14_day_trial</th>\n",
       "      <th>language_ar</th>\n",
       "      <th>Cluster</th>\n",
       "      <th>subid</th>\n",
       "    </tr>\n",
       "  </thead>\n",
       "  <tbody>\n",
       "    <tr>\n",
       "      <th>3</th>\n",
       "      <td>29.0</td>\n",
       "      <td>14</td>\n",
       "      <td>0</td>\n",
       "      <td>0</td>\n",
       "      <td>0</td>\n",
       "      <td>1</td>\n",
       "      <td>0</td>\n",
       "      <td>0</td>\n",
       "      <td>0</td>\n",
       "      <td>1</td>\n",
       "      <td>...</td>\n",
       "      <td>1</td>\n",
       "      <td>0</td>\n",
       "      <td>1</td>\n",
       "      <td>0</td>\n",
       "      <td>0</td>\n",
       "      <td>0</td>\n",
       "      <td>0</td>\n",
       "      <td>1</td>\n",
       "      <td>0</td>\n",
       "      <td>20848497</td>\n",
       "    </tr>\n",
       "    <tr>\n",
       "      <th>4</th>\n",
       "      <td>29.0</td>\n",
       "      <td>14</td>\n",
       "      <td>0</td>\n",
       "      <td>0</td>\n",
       "      <td>0</td>\n",
       "      <td>1</td>\n",
       "      <td>0</td>\n",
       "      <td>0</td>\n",
       "      <td>0</td>\n",
       "      <td>1</td>\n",
       "      <td>...</td>\n",
       "      <td>1</td>\n",
       "      <td>0</td>\n",
       "      <td>1</td>\n",
       "      <td>0</td>\n",
       "      <td>0</td>\n",
       "      <td>0</td>\n",
       "      <td>0</td>\n",
       "      <td>1</td>\n",
       "      <td>0</td>\n",
       "      <td>20848497</td>\n",
       "    </tr>\n",
       "    <tr>\n",
       "      <th>5</th>\n",
       "      <td>29.0</td>\n",
       "      <td>14</td>\n",
       "      <td>0</td>\n",
       "      <td>0</td>\n",
       "      <td>0</td>\n",
       "      <td>1</td>\n",
       "      <td>0</td>\n",
       "      <td>0</td>\n",
       "      <td>0</td>\n",
       "      <td>1</td>\n",
       "      <td>...</td>\n",
       "      <td>1</td>\n",
       "      <td>0</td>\n",
       "      <td>1</td>\n",
       "      <td>0</td>\n",
       "      <td>0</td>\n",
       "      <td>0</td>\n",
       "      <td>0</td>\n",
       "      <td>1</td>\n",
       "      <td>0</td>\n",
       "      <td>20848497</td>\n",
       "    </tr>\n",
       "    <tr>\n",
       "      <th>6</th>\n",
       "      <td>29.0</td>\n",
       "      <td>14</td>\n",
       "      <td>0</td>\n",
       "      <td>0</td>\n",
       "      <td>0</td>\n",
       "      <td>1</td>\n",
       "      <td>0</td>\n",
       "      <td>0</td>\n",
       "      <td>0</td>\n",
       "      <td>1</td>\n",
       "      <td>...</td>\n",
       "      <td>1</td>\n",
       "      <td>0</td>\n",
       "      <td>1</td>\n",
       "      <td>0</td>\n",
       "      <td>0</td>\n",
       "      <td>0</td>\n",
       "      <td>0</td>\n",
       "      <td>1</td>\n",
       "      <td>0</td>\n",
       "      <td>20848497</td>\n",
       "    </tr>\n",
       "    <tr>\n",
       "      <th>7</th>\n",
       "      <td>29.0</td>\n",
       "      <td>14</td>\n",
       "      <td>0</td>\n",
       "      <td>0</td>\n",
       "      <td>0</td>\n",
       "      <td>1</td>\n",
       "      <td>0</td>\n",
       "      <td>0</td>\n",
       "      <td>0</td>\n",
       "      <td>1</td>\n",
       "      <td>...</td>\n",
       "      <td>1</td>\n",
       "      <td>0</td>\n",
       "      <td>1</td>\n",
       "      <td>0</td>\n",
       "      <td>0</td>\n",
       "      <td>0</td>\n",
       "      <td>0</td>\n",
       "      <td>1</td>\n",
       "      <td>0</td>\n",
       "      <td>20848497</td>\n",
       "    </tr>\n",
       "  </tbody>\n",
       "</table>\n",
       "<p>5 rows × 32 columns</p>\n",
       "</div>"
      ],
      "text/plain": [
       "    age  num_trial_days  package_type_base  package_type_economy  \\\n",
       "3  29.0              14                  0                     0   \n",
       "4  29.0              14                  0                     0   \n",
       "5  29.0              14                  0                     0   \n",
       "6  29.0              14                  0                     0   \n",
       "7  29.0              14                  0                     0   \n",
       "\n",
       "   package_type_enhanced  package_type_nan  preferred_genre_comedy  \\\n",
       "3                      0                 1                       0   \n",
       "4                      0                 1                       0   \n",
       "5                      0                 1                       0   \n",
       "6                      0                 1                       0   \n",
       "7                      0                 1                       0   \n",
       "\n",
       "   preferred_genre_drama  preferred_genre_international  preferred_genre_nan  \\\n",
       "3                      0                              0                    1   \n",
       "4                      0                              0                    1   \n",
       "5                      0                              0                    1   \n",
       "6                      0                              0                    1   \n",
       "7                      0                              0                    1   \n",
       "\n",
       "   ...  country_UAE  plan_type_base_eur_14_day_trial  \\\n",
       "3  ...            1                                0   \n",
       "4  ...            1                                0   \n",
       "5  ...            1                                0   \n",
       "6  ...            1                                0   \n",
       "7  ...            1                                0   \n",
       "\n",
       "   plan_type_base_uae_14_day_trial  plan_type_high_aud_14_day_trial  \\\n",
       "3                                1                                0   \n",
       "4                                1                                0   \n",
       "5                                1                                0   \n",
       "6                                1                                0   \n",
       "7                                1                                0   \n",
       "\n",
       "   plan_type_high_sar_14_day_trial  plan_type_high_uae_14_day_trial  \\\n",
       "3                                0                                0   \n",
       "4                                0                                0   \n",
       "5                                0                                0   \n",
       "6                                0                                0   \n",
       "7                                0                                0   \n",
       "\n",
       "   plan_type_low_gbp_14_day_trial  language_ar  Cluster     subid  \n",
       "3                               0            1        0  20848497  \n",
       "4                               0            1        0  20848497  \n",
       "5                               0            1        0  20848497  \n",
       "6                               0            1        0  20848497  \n",
       "7                               0            1        0  20848497  \n",
       "\n",
       "[5 rows x 32 columns]"
      ]
     },
     "execution_count": 50,
     "metadata": {},
     "output_type": "execute_result"
    }
   ],
   "source": [
    "df_new.head()"
   ]
  },
  {
   "cell_type": "markdown",
   "metadata": {},
   "source": [
    "# Churn Model"
   ]
  },
  {
   "cell_type": "code",
   "execution_count": 139,
   "metadata": {},
   "outputs": [
    {
     "name": "stdout",
     "output_type": "stream",
     "text": [
      "<class 'pandas.core.frame.DataFrame'>\n",
      "Int64Index: 14127146 entries, 0 to 14127145\n",
      "Data columns (total 50 columns):\n",
      " #   Column                           Dtype         \n",
      "---  ------                           -----         \n",
      " 0   customer_service_rep_id          int64         \n",
      " 1   subid                            int64         \n",
      " 2   current_sub_TF                   bool          \n",
      " 3   cancel_date                      datetime64[ns]\n",
      " 4   account_creation_date_x          datetime64[ns]\n",
      " 5   num_trial_days_x                 int64         \n",
      " 6   trial_completed_TF               bool          \n",
      " 7   billing_channel                  object        \n",
      " 8   revenue_net_1month               float64       \n",
      " 9   payment_period_x                 int64         \n",
      " 10  last_payment                     datetime64[ns]\n",
      " 11  next_payment                     datetime64[ns]\n",
      " 12  renew                            float64       \n",
      " 13  package_type                     object        \n",
      " 14  num_weekly_services_utilized     float64       \n",
      " 15  preferred_genre                  object        \n",
      " 16  intended_use                     object        \n",
      " 17  weekly_consumption_hour          float64       \n",
      " 18  num_ideal_streaming_services     float64       \n",
      " 19  retarget_TF                      bool          \n",
      " 20  age                              float64       \n",
      " 21  male_TF                          object        \n",
      " 22  country                          object        \n",
      " 23  attribution_technical            object        \n",
      " 24  attribution_survey               object        \n",
      " 25  op_sys                           object        \n",
      " 26  months_per_bill_period           int64         \n",
      " 27  plan_type                        object        \n",
      " 28  monthly_price                    float64       \n",
      " 29  discount_price                   float64       \n",
      " 30  account_creation_date_y          datetime64[ns]\n",
      " 31  creation_until_cancel_days       float64       \n",
      " 32  cancel_before_trial_end          bool          \n",
      " 33  trial_end_date                   datetime64[ns]\n",
      " 34  initial_credit_card_declined     bool          \n",
      " 35  revenue_net                      float64       \n",
      " 36  join_fee                         float64       \n",
      " 37  language                         object        \n",
      " 38  paid_TF                          bool          \n",
      " 39  refund_after_trial_TF            bool          \n",
      " 40  payment_type                     object        \n",
      " 41  num_trial_days_y                 int64         \n",
      " 42  date                             datetime64[ns]\n",
      " 43  app_opens                        float64       \n",
      " 44  cust_service_mssgs               float64       \n",
      " 45  num_videos_completed             float64       \n",
      " 46  num_videos_more_than_30_seconds  float64       \n",
      " 47  num_videos_rated                 float64       \n",
      " 48  num_series_started               float64       \n",
      " 49  payment_period_y                 float64       \n",
      "dtypes: bool(7), datetime64[ns](7), float64(18), int64(6), object(12)\n",
      "memory usage: 4.7+ GB\n"
     ]
    }
   ],
   "source": [
    "df = customer_service_reps.copy()\n",
    "# add other dataframe\n",
    "df = pd.DataFrame.merge(df,subscribers, on = ['subid'])\n",
    "df = pd.DataFrame.merge(df,engagement, on = ['subid'])\n",
    "\n",
    "df.info()"
   ]
  },
  {
   "cell_type": "code",
   "execution_count": 140,
   "metadata": {},
   "outputs": [
    {
     "data": {
      "text/plain": [
       "Index(['customer_service_rep_id', 'subid', 'current_sub_TF', 'cancel_date',\n",
       "       'account_creation_date_x', 'num_trial_days_x', 'trial_completed_TF',\n",
       "       'billing_channel', 'revenue_net_1month', 'payment_period_x',\n",
       "       'last_payment', 'next_payment', 'renew', 'package_type',\n",
       "       'num_weekly_services_utilized', 'preferred_genre', 'intended_use',\n",
       "       'weekly_consumption_hour', 'num_ideal_streaming_services',\n",
       "       'retarget_TF', 'age', 'male_TF', 'country', 'attribution_technical',\n",
       "       'attribution_survey', 'op_sys', 'months_per_bill_period', 'plan_type',\n",
       "       'monthly_price', 'discount_price', 'account_creation_date_y',\n",
       "       'creation_until_cancel_days', 'cancel_before_trial_end',\n",
       "       'trial_end_date', 'initial_credit_card_declined', 'revenue_net',\n",
       "       'join_fee', 'language', 'paid_TF', 'refund_after_trial_TF',\n",
       "       'payment_type', 'num_trial_days_y', 'date', 'app_opens',\n",
       "       'cust_service_mssgs', 'num_videos_completed',\n",
       "       'num_videos_more_than_30_seconds', 'num_videos_rated',\n",
       "       'num_series_started', 'payment_period_y'],\n",
       "      dtype='object')"
      ]
     },
     "execution_count": 140,
     "metadata": {},
     "output_type": "execute_result"
    }
   ],
   "source": [
    "df.columns"
   ]
  },
  {
   "cell_type": "code",
   "execution_count": 141,
   "metadata": {},
   "outputs": [],
   "source": [
    "df=df[['revenue_net','num_trial_days_x','payment_period_x','renew','weekly_consumption_hour','num_ideal_streaming_services','age', 'male_TF','monthly_price']]"
   ]
  },
  {
   "cell_type": "code",
   "execution_count": 142,
   "metadata": {},
   "outputs": [],
   "source": [
    "df = df.dropna()"
   ]
  },
  {
   "cell_type": "code",
   "execution_count": 143,
   "metadata": {},
   "outputs": [
    {
     "data": {
      "text/plain": [
       "1.0    5455462\n",
       "0.0    3427022\n",
       "Name: renew, dtype: int64"
      ]
     },
     "execution_count": 143,
     "metadata": {},
     "output_type": "execute_result"
    }
   ],
   "source": [
    "df.renew.value_counts()"
   ]
  },
  {
   "cell_type": "code",
   "execution_count": 144,
   "metadata": {},
   "outputs": [],
   "source": [
    "df_y=df[['renew']]"
   ]
  },
  {
   "cell_type": "code",
   "execution_count": 145,
   "metadata": {},
   "outputs": [],
   "source": [
    "df=df.fillna(0)"
   ]
  },
  {
   "cell_type": "code",
   "execution_count": 146,
   "metadata": {},
   "outputs": [],
   "source": [
    "df_x=df[['num_trial_days_x','payment_period_x',\n",
    "         'weekly_consumption_hour','num_ideal_streaming_services','age','male_TF','revenue_net','monthly_price']]"
   ]
  },
  {
   "cell_type": "code",
   "execution_count": 147,
   "metadata": {},
   "outputs": [
    {
     "data": {
      "text/plain": [
       "Index(['num_trial_days_x', 'payment_period_x', 'weekly_consumption_hour',\n",
       "       'num_ideal_streaming_services', 'age', 'male_TF', 'revenue_net',\n",
       "       'monthly_price'],\n",
       "      dtype='object')"
      ]
     },
     "execution_count": 147,
     "metadata": {},
     "output_type": "execute_result"
    }
   ],
   "source": [
    "df_x.columns"
   ]
  },
  {
   "cell_type": "code",
   "execution_count": 148,
   "metadata": {},
   "outputs": [],
   "source": [
    "from sklearn.linear_model import LinearRegression\n",
    "from sklearn.metrics import confusion_matrix\n",
    "from sklearn.model_selection import train_test_split\n",
    "from sklearn import datasets , linear_model\n",
    "from sklearn.metrics import mean_squared_error , r2_score\n",
    "from sklearn.model_selection import train_test_split\n",
    "\n",
    "import matplotlib\n",
    "import matplotlib.pyplot as plt"
   ]
  },
  {
   "cell_type": "code",
   "execution_count": 149,
   "metadata": {},
   "outputs": [],
   "source": [
    "X = df_x\n",
    "y = df_y"
   ]
  },
  {
   "cell_type": "code",
   "execution_count": 150,
   "metadata": {},
   "outputs": [
    {
     "data": {
      "text/plain": [
       "LinearRegression(copy_X=True, fit_intercept=True, n_jobs=None, normalize=False)"
      ]
     },
     "execution_count": 150,
     "metadata": {},
     "output_type": "execute_result"
    }
   ],
   "source": [
    "X_train,X_test,y_train,y_test=train_test_split(X,y,test_size=0.3)\n",
    "lr=LinearRegression()\n",
    "lr.fit(X_train,y_train)"
   ]
  },
  {
   "cell_type": "code",
   "execution_count": 151,
   "metadata": {},
   "outputs": [
    {
     "data": {
      "text/plain": [
       "array([[ 2.60975203e-02, -4.01738482e-01,  1.06024877e-03,\n",
       "        -1.05749012e-02, -7.22055204e-08, -6.34249585e-03,\n",
       "         6.48839213e-02, -1.26458306e-01]])"
      ]
     },
     "execution_count": 151,
     "metadata": {},
     "output_type": "execute_result"
    }
   ],
   "source": [
    "reg = LinearRegression().fit(X_train, y_train)\n",
    "reg.coef_"
   ]
  },
  {
   "cell_type": "code",
   "execution_count": 152,
   "metadata": {
    "scrolled": true
   },
   "outputs": [
    {
     "name": "stdout",
     "output_type": "stream",
     "text": [
      "intercept_:0.694\n"
     ]
    }
   ],
   "source": [
    "print('intercept_:%.3f' % lr.intercept_)"
   ]
  },
  {
   "cell_type": "code",
   "execution_count": 123,
   "metadata": {},
   "outputs": [
    {
     "data": {
      "text/plain": [
       "array([0., 1.])"
      ]
     },
     "execution_count": 123,
     "metadata": {},
     "output_type": "execute_result"
    }
   ],
   "source": [
    "np.unique(y_test)"
   ]
  },
  {
   "cell_type": "code",
   "execution_count": 153,
   "metadata": {},
   "outputs": [],
   "source": [
    "y_pred=lr.predict(X_test)"
   ]
  },
  {
   "cell_type": "code",
   "execution_count": 154,
   "metadata": {},
   "outputs": [],
   "source": [
    "y_true=y_test"
   ]
  },
  {
   "cell_type": "code",
   "execution_count": 155,
   "metadata": {
    "scrolled": true
   },
   "outputs": [
    {
     "name": "stdout",
     "output_type": "stream",
     "text": [
      "[[1.06370854]\n",
      " [0.96289382]\n",
      " [0.28878065]\n",
      " ...\n",
      " [1.36139959]\n",
      " [0.65951207]\n",
      " [1.064332  ]]\n"
     ]
    }
   ],
   "source": [
    "print(y_pred)"
   ]
  },
  {
   "cell_type": "code",
   "execution_count": 156,
   "metadata": {
    "scrolled": false
   },
   "outputs": [
    {
     "name": "stdout",
     "output_type": "stream",
     "text": [
      "          renew\n",
      "12552501    1.0\n",
      "9683696     1.0\n",
      "10660661    0.0\n",
      "10594004    1.0\n",
      "739267      0.0\n",
      "...         ...\n",
      "7263155     1.0\n",
      "14096654    1.0\n",
      "13169944    1.0\n",
      "4102931     1.0\n",
      "5495895     1.0\n",
      "\n",
      "[2664746 rows x 1 columns]\n"
     ]
    }
   ],
   "source": [
    "print(y_test)"
   ]
  },
  {
   "cell_type": "code",
   "execution_count": 157,
   "metadata": {},
   "outputs": [],
   "source": [
    "from sklearn.metrics import mean_absolute_error\n",
    "from sklearn.metrics import mean_squared_error\n",
    "from sklearn.metrics import r2_score"
   ]
  },
  {
   "cell_type": "code",
   "execution_count": 158,
   "metadata": {},
   "outputs": [
    {
     "data": {
      "text/plain": [
       "0.28306108301015936"
      ]
     },
     "execution_count": 158,
     "metadata": {},
     "output_type": "execute_result"
    }
   ],
   "source": [
    "mean_absolute_error(y_true, y_pred)\n"
   ]
  },
  {
   "cell_type": "code",
   "execution_count": 159,
   "metadata": {},
   "outputs": [
    {
     "data": {
      "text/plain": [
       "0.10773638612283692"
      ]
     },
     "execution_count": 159,
     "metadata": {},
     "output_type": "execute_result"
    }
   ],
   "source": [
    "mean_squared_error(y_true, y_pred)\n"
   ]
  },
  {
   "cell_type": "code",
   "execution_count": 160,
   "metadata": {
    "scrolled": true
   },
   "outputs": [
    {
     "data": {
      "text/plain": [
       "0.5453238721814869"
      ]
     },
     "execution_count": 160,
     "metadata": {},
     "output_type": "execute_result"
    }
   ],
   "source": [
    "r2_score(y_true, y_pred)"
   ]
  },
  {
   "cell_type": "code",
   "execution_count": 161,
   "metadata": {},
   "outputs": [],
   "source": [
    "y_pred = y_pred.astype(int)"
   ]
  },
  {
   "cell_type": "code",
   "execution_count": 169,
   "metadata": {},
   "outputs": [],
   "source": [
    "revenue = np.array(X_test['revenue_net'])"
   ]
  },
  {
   "cell_type": "code",
   "execution_count": 170,
   "metadata": {},
   "outputs": [
    {
     "data": {
      "text/plain": [
       "array([ 9.2117, 13.7992,  3.4498, ..., 13.7625,  9.2117,  9.2117])"
      ]
     },
     "execution_count": 170,
     "metadata": {},
     "output_type": "execute_result"
    }
   ],
   "source": [
    "revenue"
   ]
  },
  {
   "cell_type": "code",
   "execution_count": 171,
   "metadata": {},
   "outputs": [
    {
     "data": {
      "text/plain": [
       "array([[1],\n",
       "       [0],\n",
       "       [0],\n",
       "       ...,\n",
       "       [1],\n",
       "       [0],\n",
       "       [1]])"
      ]
     },
     "execution_count": 171,
     "metadata": {},
     "output_type": "execute_result"
    }
   ],
   "source": [
    "y_pred"
   ]
  },
  {
   "cell_type": "code",
   "execution_count": 172,
   "metadata": {},
   "outputs": [],
   "source": [
    "expected_revenue = np.dot(y_pred.ravel(),revenue)"
   ]
  },
  {
   "cell_type": "code",
   "execution_count": 174,
   "metadata": {},
   "outputs": [
    {
     "data": {
      "text/plain": [
       "5049121.187799955"
      ]
     },
     "execution_count": 174,
     "metadata": {},
     "output_type": "execute_result"
    }
   ],
   "source": [
    "expected_revenue"
   ]
  },
  {
   "cell_type": "code",
   "execution_count": null,
   "metadata": {},
   "outputs": [],
   "source": []
  }
 ],
 "metadata": {
  "kernelspec": {
   "display_name": "Python 3",
   "language": "python",
   "name": "python3"
  },
  "language_info": {
   "codemirror_mode": {
    "name": "ipython",
    "version": 3
   },
   "file_extension": ".py",
   "mimetype": "text/x-python",
   "name": "python",
   "nbconvert_exporter": "python",
   "pygments_lexer": "ipython3",
   "version": "3.7.6"
  }
 },
 "nbformat": 4,
 "nbformat_minor": 4
}
